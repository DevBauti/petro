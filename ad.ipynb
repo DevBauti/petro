{
 "cells": [
  {
   "cell_type": "markdown",
   "metadata": {},
   "source": [
    "## Produccion hidrocarbiros primer trimestre 2024 Argentina"
   ]
  },
  {
   "cell_type": "code",
   "execution_count": 3,
   "metadata": {},
   "outputs": [],
   "source": [
    "import pandas as pd\n",
    "import matplotlib.pyplot as plt\n",
    "import seaborn as sns\n",
    "import plotly.express as px\n",
    "\n",
    "# data\n",
    "d2024 = pd.read_csv('data\\produccin-de-pozos-de-gas-y-petrleo-2024.csv', low_memory=False)"
   ]
  },
  {
   "cell_type": "markdown",
   "metadata": {},
   "source": [
    "### Exploracion de datos"
   ]
  },
  {
   "cell_type": "code",
   "execution_count": 4,
   "metadata": {},
   "outputs": [
    {
     "data": {
      "text/html": [
       "<div>\n",
       "<style scoped>\n",
       "    .dataframe tbody tr th:only-of-type {\n",
       "        vertical-align: middle;\n",
       "    }\n",
       "\n",
       "    .dataframe tbody tr th {\n",
       "        vertical-align: top;\n",
       "    }\n",
       "\n",
       "    .dataframe thead th {\n",
       "        text-align: right;\n",
       "    }\n",
       "</style>\n",
       "<table border=\"1\" class=\"dataframe\">\n",
       "  <thead>\n",
       "    <tr style=\"text-align: right;\">\n",
       "      <th></th>\n",
       "      <th>idempresa</th>\n",
       "      <th>anio</th>\n",
       "      <th>mes</th>\n",
       "      <th>idpozo</th>\n",
       "      <th>prod_pet</th>\n",
       "      <th>prod_gas</th>\n",
       "      <th>prod_agua</th>\n",
       "      <th>iny_agua</th>\n",
       "      <th>iny_gas</th>\n",
       "      <th>iny_co2</th>\n",
       "      <th>iny_otro</th>\n",
       "      <th>tef</th>\n",
       "      <th>vida_util</th>\n",
       "      <th>tipoextraccion</th>\n",
       "      <th>tipoestado</th>\n",
       "      <th>tipopozo</th>\n",
       "      <th>observaciones</th>\n",
       "      <th>fechaingreso</th>\n",
       "      <th>rectificado</th>\n",
       "      <th>habilitado</th>\n",
       "      <th>idusuario</th>\n",
       "      <th>empresa</th>\n",
       "      <th>sigla</th>\n",
       "      <th>formprod</th>\n",
       "      <th>profundidad</th>\n",
       "      <th>formacion</th>\n",
       "      <th>idareapermisoconcesion</th>\n",
       "      <th>areapermisoconcesion</th>\n",
       "      <th>idareayacimiento</th>\n",
       "      <th>areayacimiento</th>\n",
       "      <th>cuenca</th>\n",
       "      <th>provincia</th>\n",
       "      <th>tipo_de_recurso</th>\n",
       "      <th>proyecto</th>\n",
       "      <th>clasificacion</th>\n",
       "      <th>subclasificacion</th>\n",
       "      <th>sub_tipo_recurso</th>\n",
       "      <th>fecha_data</th>\n",
       "    </tr>\n",
       "  </thead>\n",
       "  <tbody>\n",
       "    <tr>\n",
       "      <th>0</th>\n",
       "      <td>Z001</td>\n",
       "      <td>2024</td>\n",
       "      <td>1</td>\n",
       "      <td>145622</td>\n",
       "      <td>0.0</td>\n",
       "      <td>0.0</td>\n",
       "      <td>0.0</td>\n",
       "      <td>0.0</td>\n",
       "      <td>0.0</td>\n",
       "      <td>0.0</td>\n",
       "      <td>0.0</td>\n",
       "      <td>0.0</td>\n",
       "      <td>0.0</td>\n",
       "      <td>Sin Sistema de Extracción</td>\n",
       "      <td>Abandonado</td>\n",
       "      <td>Petrolífero</td>\n",
       "      <td>Cargado automáticamente como [Sin movimientos]</td>\n",
       "      <td>2024-02-22 22:45:06.486649</td>\n",
       "      <td>f</td>\n",
       "      <td>t</td>\n",
       "      <td>379</td>\n",
       "      <td>PETROLERA DEL COMAHUE S.A.</td>\n",
       "      <td>JG.DJ.x-2</td>\n",
       "      <td>PROS</td>\n",
       "      <td>2402.0</td>\n",
       "      <td>punta rosada</td>\n",
       "      <td>AGR</td>\n",
       "      <td>GENERAL ROCA</td>\n",
       "      <td>AGR</td>\n",
       "      <td>GENERAL ROCA</td>\n",
       "      <td>NEUQUINA</td>\n",
       "      <td>Rio Negro</td>\n",
       "      <td>CONVENCIONAL</td>\n",
       "      <td>Sin Proyecto</td>\n",
       "      <td>EXPLORACION</td>\n",
       "      <td>EXPLORACION</td>\n",
       "      <td>NaN</td>\n",
       "      <td>2024-01-31</td>\n",
       "    </tr>\n",
       "    <tr>\n",
       "      <th>1</th>\n",
       "      <td>Z001</td>\n",
       "      <td>2024</td>\n",
       "      <td>1</td>\n",
       "      <td>145624</td>\n",
       "      <td>0.0</td>\n",
       "      <td>0.0</td>\n",
       "      <td>0.0</td>\n",
       "      <td>0.0</td>\n",
       "      <td>0.0</td>\n",
       "      <td>0.0</td>\n",
       "      <td>0.0</td>\n",
       "      <td>0.0</td>\n",
       "      <td>0.0</td>\n",
       "      <td>Sin Sistema de Extracción</td>\n",
       "      <td>Abandonado</td>\n",
       "      <td>Petrolífero</td>\n",
       "      <td>Cargado automáticamente como [Sin movimientos]</td>\n",
       "      <td>2024-02-22 22:45:06.486649</td>\n",
       "      <td>f</td>\n",
       "      <td>t</td>\n",
       "      <td>379</td>\n",
       "      <td>PETROLERA DEL COMAHUE S.A.</td>\n",
       "      <td>YPF.GR.x-2</td>\n",
       "      <td>FIMP</td>\n",
       "      <td>2507.0</td>\n",
       "      <td>formación improductiva</td>\n",
       "      <td>AGR</td>\n",
       "      <td>GENERAL ROCA</td>\n",
       "      <td>AGR</td>\n",
       "      <td>GENERAL ROCA</td>\n",
       "      <td>NEUQUINA</td>\n",
       "      <td>Rio Negro</td>\n",
       "      <td>CONVENCIONAL</td>\n",
       "      <td>Sin Proyecto</td>\n",
       "      <td>EXPLORACION</td>\n",
       "      <td>EXPLORACION</td>\n",
       "      <td>NaN</td>\n",
       "      <td>2024-01-31</td>\n",
       "    </tr>\n",
       "    <tr>\n",
       "      <th>2</th>\n",
       "      <td>Z001</td>\n",
       "      <td>2024</td>\n",
       "      <td>1</td>\n",
       "      <td>145626</td>\n",
       "      <td>0.0</td>\n",
       "      <td>0.0</td>\n",
       "      <td>0.0</td>\n",
       "      <td>0.0</td>\n",
       "      <td>0.0</td>\n",
       "      <td>0.0</td>\n",
       "      <td>0.0</td>\n",
       "      <td>0.0</td>\n",
       "      <td>0.0</td>\n",
       "      <td>Sin Sistema de Extracción</td>\n",
       "      <td>Abandonado</td>\n",
       "      <td>Petrolífero</td>\n",
       "      <td>Cargado automáticamente como [Sin movimientos]</td>\n",
       "      <td>2024-02-22 22:45:06.486649</td>\n",
       "      <td>f</td>\n",
       "      <td>t</td>\n",
       "      <td>379</td>\n",
       "      <td>PETROLERA DEL COMAHUE S.A.</td>\n",
       "      <td>YPF.RN.-2</td>\n",
       "      <td>FIMP</td>\n",
       "      <td>1903.0</td>\n",
       "      <td>formación improductiva</td>\n",
       "      <td>AGR</td>\n",
       "      <td>GENERAL ROCA</td>\n",
       "      <td>AGR</td>\n",
       "      <td>GENERAL ROCA</td>\n",
       "      <td>NEUQUINA</td>\n",
       "      <td>Rio Negro</td>\n",
       "      <td>CONVENCIONAL</td>\n",
       "      <td>Sin Proyecto</td>\n",
       "      <td>EXPLORACION</td>\n",
       "      <td>EXPLORACION</td>\n",
       "      <td>NaN</td>\n",
       "      <td>2024-01-31</td>\n",
       "    </tr>\n",
       "    <tr>\n",
       "      <th>3</th>\n",
       "      <td>Z001</td>\n",
       "      <td>2024</td>\n",
       "      <td>1</td>\n",
       "      <td>145625</td>\n",
       "      <td>0.0</td>\n",
       "      <td>0.0</td>\n",
       "      <td>0.0</td>\n",
       "      <td>0.0</td>\n",
       "      <td>0.0</td>\n",
       "      <td>0.0</td>\n",
       "      <td>0.0</td>\n",
       "      <td>0.0</td>\n",
       "      <td>0.0</td>\n",
       "      <td>Sin Sistema de Extracción</td>\n",
       "      <td>Abandonado</td>\n",
       "      <td>Petrolífero</td>\n",
       "      <td>Cargado automáticamente como [Sin movimientos]</td>\n",
       "      <td>2024-02-22 22:45:06.486649</td>\n",
       "      <td>f</td>\n",
       "      <td>t</td>\n",
       "      <td>379</td>\n",
       "      <td>PETROLERA DEL COMAHUE S.A.</td>\n",
       "      <td>YPF.GR.x-5</td>\n",
       "      <td>FIMP</td>\n",
       "      <td>2707.0</td>\n",
       "      <td>formación improductiva</td>\n",
       "      <td>AGR</td>\n",
       "      <td>GENERAL ROCA</td>\n",
       "      <td>AGR</td>\n",
       "      <td>GENERAL ROCA</td>\n",
       "      <td>NEUQUINA</td>\n",
       "      <td>Rio Negro</td>\n",
       "      <td>CONVENCIONAL</td>\n",
       "      <td>Sin Proyecto</td>\n",
       "      <td>EXPLORACION</td>\n",
       "      <td>EXPLORACION</td>\n",
       "      <td>NaN</td>\n",
       "      <td>2024-01-31</td>\n",
       "    </tr>\n",
       "    <tr>\n",
       "      <th>4</th>\n",
       "      <td>Z001</td>\n",
       "      <td>2024</td>\n",
       "      <td>1</td>\n",
       "      <td>145623</td>\n",
       "      <td>0.0</td>\n",
       "      <td>0.0</td>\n",
       "      <td>0.0</td>\n",
       "      <td>0.0</td>\n",
       "      <td>0.0</td>\n",
       "      <td>0.0</td>\n",
       "      <td>0.0</td>\n",
       "      <td>0.0</td>\n",
       "      <td>0.0</td>\n",
       "      <td>Plunger Lift</td>\n",
       "      <td>Abandonado</td>\n",
       "      <td>Petrolífero</td>\n",
       "      <td>Cargado automáticamente como [Sin movimientos]</td>\n",
       "      <td>2024-02-22 22:45:06.486649</td>\n",
       "      <td>f</td>\n",
       "      <td>t</td>\n",
       "      <td>379</td>\n",
       "      <td>PETROLERA DEL COMAHUE S.A.</td>\n",
       "      <td>YPF.G.x-1</td>\n",
       "      <td>FIMP</td>\n",
       "      <td>2500.0</td>\n",
       "      <td>formación improductiva</td>\n",
       "      <td>AGR</td>\n",
       "      <td>GENERAL ROCA</td>\n",
       "      <td>AGR</td>\n",
       "      <td>GENERAL ROCA</td>\n",
       "      <td>NEUQUINA</td>\n",
       "      <td>Rio Negro</td>\n",
       "      <td>CONVENCIONAL</td>\n",
       "      <td>Sin Proyecto</td>\n",
       "      <td>EXPLORACION</td>\n",
       "      <td>EXPLORACION</td>\n",
       "      <td>NaN</td>\n",
       "      <td>2024-01-31</td>\n",
       "    </tr>\n",
       "  </tbody>\n",
       "</table>\n",
       "</div>"
      ],
      "text/plain": [
       "  idempresa  anio  mes  idpozo  prod_pet  prod_gas  prod_agua  iny_agua  \\\n",
       "0      Z001  2024    1  145622       0.0       0.0        0.0       0.0   \n",
       "1      Z001  2024    1  145624       0.0       0.0        0.0       0.0   \n",
       "2      Z001  2024    1  145626       0.0       0.0        0.0       0.0   \n",
       "3      Z001  2024    1  145625       0.0       0.0        0.0       0.0   \n",
       "4      Z001  2024    1  145623       0.0       0.0        0.0       0.0   \n",
       "\n",
       "   iny_gas  iny_co2  iny_otro  tef  vida_util             tipoextraccion  \\\n",
       "0      0.0      0.0       0.0  0.0        0.0  Sin Sistema de Extracción   \n",
       "1      0.0      0.0       0.0  0.0        0.0  Sin Sistema de Extracción   \n",
       "2      0.0      0.0       0.0  0.0        0.0  Sin Sistema de Extracción   \n",
       "3      0.0      0.0       0.0  0.0        0.0  Sin Sistema de Extracción   \n",
       "4      0.0      0.0       0.0  0.0        0.0               Plunger Lift   \n",
       "\n",
       "   tipoestado     tipopozo                                   observaciones  \\\n",
       "0  Abandonado  Petrolífero  Cargado automáticamente como [Sin movimientos]   \n",
       "1  Abandonado  Petrolífero  Cargado automáticamente como [Sin movimientos]   \n",
       "2  Abandonado  Petrolífero  Cargado automáticamente como [Sin movimientos]   \n",
       "3  Abandonado  Petrolífero  Cargado automáticamente como [Sin movimientos]   \n",
       "4  Abandonado  Petrolífero  Cargado automáticamente como [Sin movimientos]   \n",
       "\n",
       "                 fechaingreso rectificado habilitado  idusuario  \\\n",
       "0  2024-02-22 22:45:06.486649           f          t        379   \n",
       "1  2024-02-22 22:45:06.486649           f          t        379   \n",
       "2  2024-02-22 22:45:06.486649           f          t        379   \n",
       "3  2024-02-22 22:45:06.486649           f          t        379   \n",
       "4  2024-02-22 22:45:06.486649           f          t        379   \n",
       "\n",
       "                      empresa       sigla formprod  profundidad  \\\n",
       "0  PETROLERA DEL COMAHUE S.A.   JG.DJ.x-2     PROS       2402.0   \n",
       "1  PETROLERA DEL COMAHUE S.A.  YPF.GR.x-2     FIMP       2507.0   \n",
       "2  PETROLERA DEL COMAHUE S.A.   YPF.RN.-2     FIMP       1903.0   \n",
       "3  PETROLERA DEL COMAHUE S.A.  YPF.GR.x-5     FIMP       2707.0   \n",
       "4  PETROLERA DEL COMAHUE S.A.   YPF.G.x-1     FIMP       2500.0   \n",
       "\n",
       "                formacion idareapermisoconcesion areapermisoconcesion  \\\n",
       "0            punta rosada                    AGR        GENERAL ROCA    \n",
       "1  formación improductiva                    AGR        GENERAL ROCA    \n",
       "2  formación improductiva                    AGR        GENERAL ROCA    \n",
       "3  formación improductiva                    AGR        GENERAL ROCA    \n",
       "4  formación improductiva                    AGR        GENERAL ROCA    \n",
       "\n",
       "  idareayacimiento areayacimiento    cuenca  provincia tipo_de_recurso  \\\n",
       "0              AGR   GENERAL ROCA  NEUQUINA  Rio Negro    CONVENCIONAL   \n",
       "1              AGR   GENERAL ROCA  NEUQUINA  Rio Negro    CONVENCIONAL   \n",
       "2              AGR   GENERAL ROCA  NEUQUINA  Rio Negro    CONVENCIONAL   \n",
       "3              AGR   GENERAL ROCA  NEUQUINA  Rio Negro    CONVENCIONAL   \n",
       "4              AGR   GENERAL ROCA  NEUQUINA  Rio Negro    CONVENCIONAL   \n",
       "\n",
       "       proyecto clasificacion subclasificacion sub_tipo_recurso  fecha_data  \n",
       "0  Sin Proyecto   EXPLORACION      EXPLORACION              NaN  2024-01-31  \n",
       "1  Sin Proyecto   EXPLORACION      EXPLORACION              NaN  2024-01-31  \n",
       "2  Sin Proyecto   EXPLORACION      EXPLORACION              NaN  2024-01-31  \n",
       "3  Sin Proyecto   EXPLORACION      EXPLORACION              NaN  2024-01-31  \n",
       "4  Sin Proyecto   EXPLORACION      EXPLORACION              NaN  2024-01-31  "
      ]
     },
     "execution_count": 4,
     "metadata": {},
     "output_type": "execute_result"
    }
   ],
   "source": [
    "pd.set_option('display.max_columns', None)\n",
    "d2024.head()"
   ]
  },
  {
   "cell_type": "code",
   "execution_count": 5,
   "metadata": {},
   "outputs": [
    {
     "data": {
      "text/plain": [
       "idempresa                      0\n",
       "anio                           0\n",
       "mes                            0\n",
       "idpozo                         0\n",
       "prod_pet                       0\n",
       "prod_gas                       0\n",
       "prod_agua                      0\n",
       "iny_agua                       0\n",
       "iny_gas                        0\n",
       "iny_co2                        0\n",
       "iny_otro                       0\n",
       "tef                            0\n",
       "vida_util                 237292\n",
       "tipoextraccion                10\n",
       "tipoestado                    10\n",
       "tipopozo                      10\n",
       "observaciones             227177\n",
       "fechaingreso                   0\n",
       "rectificado                    0\n",
       "habilitado                     0\n",
       "idusuario                      0\n",
       "empresa                        0\n",
       "sigla                          0\n",
       "formprod                    8040\n",
       "profundidad                    0\n",
       "formacion                   8379\n",
       "idareapermisoconcesion         0\n",
       "areapermisoconcesion           0\n",
       "idareayacimiento               0\n",
       "areayacimiento                 0\n",
       "cuenca                         9\n",
       "provincia                      0\n",
       "tipo_de_recurso                0\n",
       "proyecto                       0\n",
       "clasificacion              50353\n",
       "subclasificacion           50353\n",
       "sub_tipo_recurso          230872\n",
       "fecha_data                     0\n",
       "dtype: int64"
      ]
     },
     "execution_count": 5,
     "metadata": {},
     "output_type": "execute_result"
    }
   ],
   "source": [
    "d2024.isna().sum()"
   ]
  },
  {
   "cell_type": "code",
   "execution_count": 6,
   "metadata": {},
   "outputs": [
    {
     "data": {
      "text/plain": [
       "(242437, 38)"
      ]
     },
     "execution_count": 6,
     "metadata": {},
     "output_type": "execute_result"
    }
   ],
   "source": [
    "d2024.shape"
   ]
  },
  {
   "cell_type": "markdown",
   "metadata": {},
   "source": [
    "### Limpieza de datos"
   ]
  },
  {
   "cell_type": "code",
   "execution_count": 7,
   "metadata": {},
   "outputs": [],
   "source": [
    "# Limpieza de df\n",
    "useful_columns = d2024[['anio','mes','idpozo','prod_pet','prod_gas','prod_agua','iny_agua','iny_gas','iny_co2','iny_otro','tipoextraccion','tipoestado','tipopozo','empresa','profundidad','cuenca','provincia','fecha_data']]\n",
    "my_dataframe = useful_columns.dropna()\n",
    "# Sub df para Mes, tipoEstado \n",
    "unique_mes = my_dataframe['mes'].unique()\n",
    "sub_mes = {}\n",
    "for n in unique_mes:\n",
    "    sub_mes[n] = my_dataframe.loc[my_dataframe['mes'] == n]"
   ]
  },
  {
   "cell_type": "code",
   "execution_count": 8,
   "metadata": {},
   "outputs": [],
   "source": [
    "# Seteo de meses\n",
    "mes1 = sub_mes[1] \n",
    "mes2 = sub_mes[2]\n",
    "mes3 = sub_mes[3]"
   ]
  },
  {
   "cell_type": "markdown",
   "metadata": {},
   "source": [
    "#### desglose en meses"
   ]
  },
  {
   "cell_type": "markdown",
   "metadata": {},
   "source": [
    "##### enero"
   ]
  },
  {
   "cell_type": "code",
   "execution_count": 9,
   "metadata": {},
   "outputs": [],
   "source": [
    "# Desglose mes de enero \n",
    "# Activos\n",
    "pozos_activos = pd.concat([mes1.loc[mes1['tipoestado']=='Extracción Efectiva'], mes1.loc[mes1['tipoestado']=='En Inyección Efectiva']], axis=0, ignore_index=True) \n",
    "pozos_reserva = pd.concat([mes1.loc[mes1['tipoestado']=='En Reserva de Gas'], mes1.loc[mes1['tipoestado']=='En Reserva para Recup. Sec./Asist.']], axis=0, ignore_index=True)\n",
    "pozos_en_estudio = mes1.loc[mes1['tipoestado']=='En Estudio']\n",
    "\n",
    "# Mantenimiento\n",
    "pozos_en_mantenimiento = pd.concat([mes1.loc[mes1['tipoestado']=='Mantenimiento de Presión'],mes1.loc[mes1['tipoestado']=='En Reparación']], axis=0, ignore_index=True)\n",
    "\n",
    "# Detenidos\n",
    "pozos_parados = pd.concat([mes1.loc[mes1['tipoestado']=='Abandono Temporario'],\n",
    " mes1.loc[mes1['tipoestado']=='Parado Alta Relación Agua/Petróleo'],\n",
    " mes1.loc[mes1['tipoestado']=='Parado Alta Relación Gas/Petróleo'],\n",
    " mes1.loc[mes1['tipoestado']=='Parado Transitoriamente'],\n",
    " mes1.loc[mes1['tipoestado']=='Otras Situación Activo'],\n",
    " mes1.loc[mes1['tipoestado']=='Otras Situación Inactivo']], axis=0, ignore_index=True) \n",
    "\n",
    "# Abandonados o por abandonar\n",
    "pozos_abandonados = mes1.loc[mes1['tipoestado']=='Abandonado']\n",
    "pozos_a_abandonar = mes1.loc[mes1['tipoestado']=='A Abandonar']\n"
   ]
  },
  {
   "cell_type": "markdown",
   "metadata": {},
   "source": [
    "##### febrero"
   ]
  },
  {
   "cell_type": "code",
   "execution_count": 10,
   "metadata": {},
   "outputs": [],
   "source": [
    "# Desglose mes de febrero \n",
    "# Activos\n",
    "pozos_activos = pd.concat([mes2.loc[mes2['tipoestado']=='Extracción Efectiva'], mes2.loc[mes2['tipoestado']=='En Inyección Efectiva']], axis=0, ignore_index=True) \n",
    "pozos_reserva = pd.concat([mes2.loc[mes2['tipoestado']=='En Reserva de Gas'], mes2.loc[mes2['tipoestado']=='En Reserva para Recup. Sec./Asist.']], axis=0, ignore_index=True)\n",
    "pozos_en_estudio = mes2.loc[mes2['tipoestado']=='En Estudio']\n",
    "\n",
    "# Mantenimiento\n",
    "pozos_en_mantenimiento = pd.concat([mes2.loc[mes2['tipoestado']=='Mantenimiento de Presión'],mes2.loc[mes2['tipoestado']=='En Reparación']], axis=0, ignore_index=True)\n",
    "\n",
    "# Detenidos\n",
    "pozos_parados = pd.concat([mes2.loc[mes2['tipoestado']=='Abandono Temporario'],\n",
    " mes2.loc[mes2['tipoestado']=='Parado Alta Relación Agua/Petróleo'],\n",
    " mes2.loc[mes2['tipoestado']=='Parado Alta Relación Gas/Petróleo'],\n",
    " mes2.loc[mes2['tipoestado']=='Parado Transitoriamente'],\n",
    " mes2.loc[mes2['tipoestado']=='Otras Situación Activo'],\n",
    " mes2.loc[mes2['tipoestado']=='Otras Situación Inactivo']], axis=0, ignore_index=True) \n",
    "\n",
    "# Abandonados o por abandonar\n",
    "pozos_abandonados = mes2.loc[mes2['tipoestado']=='Abandonado']\n",
    "pozos_a_abandonar = mes2.loc[mes2['tipoestado']=='A Abandonar']\n"
   ]
  },
  {
   "cell_type": "markdown",
   "metadata": {},
   "source": [
    "##### Marzo"
   ]
  },
  {
   "cell_type": "code",
   "execution_count": 11,
   "metadata": {},
   "outputs": [],
   "source": [
    "# Desglose mes de marzo \n",
    "# Activos\n",
    "pozos_activos = pd.concat([mes3.loc[mes3['tipoestado']=='Extracción Efectiva'], mes3.loc[mes3['tipoestado']=='En Inyección Efectiva']], axis=0, ignore_index=True) \n",
    "pozos_reserva = pd.concat([mes3.loc[mes3['tipoestado']=='En Reserva de Gas'], mes3.loc[mes3['tipoestado']=='En Reserva para Recup. Sec./Asist.']], axis=0, ignore_index=True)\n",
    "pozos_en_estudio = mes3.loc[mes3['tipoestado']=='En Estudio']\n",
    "\n",
    "# Mantenimiento\n",
    "pozos_en_mantenimiento = pd.concat([mes3.loc[mes3['tipoestado']=='Mantenimiento de Presión'],mes3.loc[mes3['tipoestado']=='En Reparación']], axis=0, ignore_index=True)\n",
    "\n",
    "# Detenidos\n",
    "pozos_parados = pd.concat([mes3.loc[mes3['tipoestado']=='Abandono Temporario'],\n",
    " mes3.loc[mes3['tipoestado']=='Parado Alta Relación Agua/Petróleo'],\n",
    " mes3.loc[mes3['tipoestado']=='Parado Alta Relación Gas/Petróleo'],\n",
    " mes3.loc[mes3['tipoestado']=='Parado Transitoriamente'],\n",
    " mes3.loc[mes3['tipoestado']=='Otras Situación Activo'],\n",
    " mes3.loc[mes3['tipoestado']=='Otras Situación Inactivo']], axis=0, ignore_index=True) \n",
    "\n",
    "# Abandonados o por abandonar\n",
    "pozos_abandonados = mes3.loc[mes3['tipoestado']=='Abandonado']\n",
    "pozos_a_abandonar = mes3.loc[mes3['tipoestado']=='A Abandonar']\n"
   ]
  },
  {
   "cell_type": "markdown",
   "metadata": {},
   "source": [
    "### Analisis"
   ]
  },
  {
   "cell_type": "markdown",
   "metadata": {},
   "source": [
    "##### Cantidad de pozos por provicia"
   ]
  },
  {
   "cell_type": "code",
   "execution_count": 12,
   "metadata": {},
   "outputs": [],
   "source": [
    "# IN WORKING \n",
    "x=mes3['provincia'].unique()\n",
    "y=mes3['provincia'].value_counts()\n",
    "# Necesito un grafico de barras acumuladas"
   ]
  },
  {
   "cell_type": "code",
   "execution_count": 13,
   "metadata": {},
   "outputs": [
    {
     "data": {
      "image/png": "[encoded data removed]",
      "text/plain": [
       "<Figure size 1000x600 with 1 Axes>"
      ]
     },
     "metadata": {},
     "output_type": "display_data"
    }
   ],
   "source": []
  },
  {
   "cell_type": "markdown",
   "metadata": {},
   "source": [
    "#### Total de pozos no abandonados por provincia"
   ]
  },
  {
   "cell_type": "code",
   "execution_count": null,
   "metadata": {},
   "outputs": [],
   "source": [
    "# Aqui va un cuadro detallando cada uno"
   ]
  },
  {
   "cell_type": "code",
   "execution_count": null,
   "metadata": {},
   "outputs": [],
   "source": [
    "# Aqui va un cuadro de las profundidades medias de cada provincia"
   ]
  },
  {
   "cell_type": "markdown",
   "metadata": {},
   "source": [
    "***Pozos activos*** Por provincia"
   ]
  },
  {
   "cell_type": "code",
   "execution_count": null,
   "metadata": {},
   "outputs": [],
   "source": [
    "#Cantidad pozos activos por provincia \n",
    "from matplotlib.ticker import NullFormatter\n",
    "# data\n",
    "x = pozos_activos['provincia'].unique()\n",
    "y = pozos_activos['provincia'].value_counts()\n",
    "\n",
    "# Creacion grafico\n",
    "fig, ax = plt.subplots(figsize=(10,4))\n",
    "bars = ax.bar(x,y, color='skyblue')\n",
    "# Grafico logarítmico \n",
    "ax.set_yscale('log')\n",
    "ax.yaxis.set_major_formatter(NullFormatter())\n",
    "ax.grid()\n",
    "# agregado del valor entero de cada provincia\n",
    "for bar in bars:\n",
    "    yval = bar.get_height()\n",
    "    ax.text(bar.get_x() + bar.get_width()/2, yval,int(yval))\n",
    "# Arreglos\n",
    "plt.xticks(rotation=45)\n",
    "plt.title('Pozos activos por provincia')\n",
    "plt.show()"
   ]
  },
  {
   "cell_type": "markdown",
   "metadata": {},
   "source": [
    "#### Porcentajes de pozos no abandonados por provincia"
   ]
  },
  {
   "cell_type": "code",
   "execution_count": null,
   "metadata": {},
   "outputs": [],
   "source": [
    "# aqui va un grafico de torta con los porcentajes de cada provincia bien desglosado"
   ]
  },
  {
   "cell_type": "markdown",
   "metadata": {},
   "source": [
    "*Mes de marzo*"
   ]
  },
  {
   "cell_type": "code",
   "execution_count": null,
   "metadata": {},
   "outputs": [],
   "source": [
    "# Esto no es final, solo una aproximacion\n",
    "# FIltrado de pozos abandonados y seleccionado el mes de marzo\n",
    "pozos_totales = mes3.loc[mes3['tipoestado']!='Abandonado']\n",
    "# Cuanta por provincia\n",
    "data = pozos_totales['provincia'].value_counts()\n",
    "# Tomamos el porcentaje\n",
    "percentages = (data / data.sum())*100\n",
    "# Filtramos los resultados menores a 1 y los agrupamos en 'otros'\n",
    "filtered_data = percentages[percentages >= 1]\n",
    "filtered_data['otros'] = percentages[percentages < 1].sum()\n",
    "\n",
    "# Creamos el grafico\n",
    "fig, ax = plt.subplots(figsize=(10,6))\n",
    "wedges, labels, autotexts = ax.pie(filtered_data, autopct='%1.1f%%')\n",
    "labels = filtered_data.index\n",
    "ax.legend(wedges, labels, title='Provincia', loc=\"upper right\", bbox_to_anchor=(1,0,0.25,1))\n",
    "\n",
    "plt.title('Porcentajes de pozos por provincias')\n",
    "plt.setp(autotexts, size=10, color=\"white\")\n",
    "plt.show()\n"
   ]
  },
  {
   "cell_type": "markdown",
   "metadata": {},
   "source": [
    "#### Produccion petroleo, gas, agua por provincia"
   ]
  },
  {
   "cell_type": "code",
   "execution_count": 15,
   "metadata": {},
   "outputs": [],
   "source": [
    "# Aqui va un grafico de barras acumuladas con cada provincia y produccion "
   ]
  },
  {
   "cell_type": "markdown",
   "metadata": {},
   "source": [
    "Inyeccion de agua, co2, gas por provincia"
   ]
  },
  {
   "cell_type": "code",
   "execution_count": null,
   "metadata": {},
   "outputs": [],
   "source": []
  },
  {
   "cell_type": "markdown",
   "metadata": {},
   "source": [
    "Empresas con mayor produccion"
   ]
  },
  {
   "cell_type": "code",
   "execution_count": null,
   "metadata": {},
   "outputs": [],
   "source": []
  },
  {
   "cell_type": "markdown",
   "metadata": {},
   "source": [
    "Cuenca con mayor produccion"
   ]
  },
  {
   "cell_type": "code",
   "execution_count": null,
   "metadata": {},
   "outputs": [],
   "source": []
  },
  {
   "cell_type": "markdown",
   "metadata": {},
   "source": [
    "Extraccion mas frecuente por cuenca"
   ]
  },
  {
   "cell_type": "code",
   "execution_count": null,
   "metadata": {},
   "outputs": [],
   "source": []
  }
 ],
 "metadata": {
  "kernelspec": {
   "display_name": "env",
   "language": "python",
   "name": "python3"
  },
  "language_info": {
   "codemirror_mode": {
    "name": "ipython",
    "version": 3
   },
   "file_extension": ".py",
   "mimetype": "text/x-python",
   "name": "python",
   "nbconvert_exporter": "python",
   "pygments_lexer": "ipython3",
   "version": "3.11.9"
  }
 },
 "nbformat": 4,
 "nbformat_minor": 2
}
