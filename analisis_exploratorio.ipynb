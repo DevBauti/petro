{
 "cells": [
  {
   "cell_type": "markdown",
   "metadata": {},
   "source": [
    "## Produccion hidrocarbiros primer trimestre 2024 Argentina"
   ]
  },
  {
   "cell_type": "code",
   "execution_count": 1,
   "metadata": {},
   "outputs": [],
   "source": [
    "import pandas as pd\n",
    "import matplotlib.pyplot as plt\n",
    "import seaborn as sns\n",
    "import plotly.graph_objects as go\n",
    "\n",
    "\n",
    "# data\n",
    "d2024 = pd.read_csv('data\\produccin-de-pozos-de-gas-y-petrleo-2024.csv', low_memory=False)"
   ]
  },
  {
   "cell_type": "markdown",
   "metadata": {},
   "source": [
    "### Exploracion de datos"
   ]
  },
  {
   "cell_type": "code",
   "execution_count": 2,
   "metadata": {},
   "outputs": [
    {
     "data": {
      "text/html": [
       "<div>\n",
       "<style scoped>\n",
       "    .dataframe tbody tr th:only-of-type {\n",
       "        vertical-align: middle;\n",
       "    }\n",
       "\n",
       "    .dataframe tbody tr th {\n",
       "        vertical-align: top;\n",
       "    }\n",
       "\n",
       "    .dataframe thead th {\n",
       "        text-align: right;\n",
       "    }\n",
       "</style>\n",
       "<table border=\"1\" class=\"dataframe\">\n",
       "  <thead>\n",
       "    <tr style=\"text-align: right;\">\n",
       "      <th></th>\n",
       "      <th>idempresa</th>\n",
       "      <th>anio</th>\n",
       "      <th>mes</th>\n",
       "      <th>idpozo</th>\n",
       "      <th>prod_pet</th>\n",
       "      <th>prod_gas</th>\n",
       "      <th>prod_agua</th>\n",
       "      <th>iny_agua</th>\n",
       "      <th>iny_gas</th>\n",
       "      <th>iny_co2</th>\n",
       "      <th>iny_otro</th>\n",
       "      <th>tef</th>\n",
       "      <th>vida_util</th>\n",
       "      <th>tipoextraccion</th>\n",
       "      <th>tipoestado</th>\n",
       "      <th>tipopozo</th>\n",
       "      <th>observaciones</th>\n",
       "      <th>fechaingreso</th>\n",
       "      <th>rectificado</th>\n",
       "      <th>habilitado</th>\n",
       "      <th>idusuario</th>\n",
       "      <th>empresa</th>\n",
       "      <th>sigla</th>\n",
       "      <th>formprod</th>\n",
       "      <th>profundidad</th>\n",
       "      <th>formacion</th>\n",
       "      <th>idareapermisoconcesion</th>\n",
       "      <th>areapermisoconcesion</th>\n",
       "      <th>idareayacimiento</th>\n",
       "      <th>areayacimiento</th>\n",
       "      <th>cuenca</th>\n",
       "      <th>provincia</th>\n",
       "      <th>tipo_de_recurso</th>\n",
       "      <th>proyecto</th>\n",
       "      <th>clasificacion</th>\n",
       "      <th>subclasificacion</th>\n",
       "      <th>sub_tipo_recurso</th>\n",
       "      <th>fecha_data</th>\n",
       "    </tr>\n",
       "  </thead>\n",
       "  <tbody>\n",
       "    <tr>\n",
       "      <th>0</th>\n",
       "      <td>Z001</td>\n",
       "      <td>2024</td>\n",
       "      <td>1</td>\n",
       "      <td>145622</td>\n",
       "      <td>0.0</td>\n",
       "      <td>0.0</td>\n",
       "      <td>0.0</td>\n",
       "      <td>0.0</td>\n",
       "      <td>0.0</td>\n",
       "      <td>0.0</td>\n",
       "      <td>0.0</td>\n",
       "      <td>0.0</td>\n",
       "      <td>0.0</td>\n",
       "      <td>Sin Sistema de Extracción</td>\n",
       "      <td>Abandonado</td>\n",
       "      <td>Petrolífero</td>\n",
       "      <td>Cargado automáticamente como [Sin movimientos]</td>\n",
       "      <td>2024-02-22 22:45:06.486649</td>\n",
       "      <td>f</td>\n",
       "      <td>t</td>\n",
       "      <td>379</td>\n",
       "      <td>PETROLERA DEL COMAHUE S.A.</td>\n",
       "      <td>JG.DJ.x-2</td>\n",
       "      <td>PROS</td>\n",
       "      <td>2402.0</td>\n",
       "      <td>punta rosada</td>\n",
       "      <td>AGR</td>\n",
       "      <td>GENERAL ROCA</td>\n",
       "      <td>AGR</td>\n",
       "      <td>GENERAL ROCA</td>\n",
       "      <td>NEUQUINA</td>\n",
       "      <td>Rio Negro</td>\n",
       "      <td>CONVENCIONAL</td>\n",
       "      <td>Sin Proyecto</td>\n",
       "      <td>EXPLORACION</td>\n",
       "      <td>EXPLORACION</td>\n",
       "      <td>NaN</td>\n",
       "      <td>2024-01-31</td>\n",
       "    </tr>\n",
       "    <tr>\n",
       "      <th>1</th>\n",
       "      <td>Z001</td>\n",
       "      <td>2024</td>\n",
       "      <td>1</td>\n",
       "      <td>145624</td>\n",
       "      <td>0.0</td>\n",
       "      <td>0.0</td>\n",
       "      <td>0.0</td>\n",
       "      <td>0.0</td>\n",
       "      <td>0.0</td>\n",
       "      <td>0.0</td>\n",
       "      <td>0.0</td>\n",
       "      <td>0.0</td>\n",
       "      <td>0.0</td>\n",
       "      <td>Sin Sistema de Extracción</td>\n",
       "      <td>Abandonado</td>\n",
       "      <td>Petrolífero</td>\n",
       "      <td>Cargado automáticamente como [Sin movimientos]</td>\n",
       "      <td>2024-02-22 22:45:06.486649</td>\n",
       "      <td>f</td>\n",
       "      <td>t</td>\n",
       "      <td>379</td>\n",
       "      <td>PETROLERA DEL COMAHUE S.A.</td>\n",
       "      <td>YPF.GR.x-2</td>\n",
       "      <td>FIMP</td>\n",
       "      <td>2507.0</td>\n",
       "      <td>formación improductiva</td>\n",
       "      <td>AGR</td>\n",
       "      <td>GENERAL ROCA</td>\n",
       "      <td>AGR</td>\n",
       "      <td>GENERAL ROCA</td>\n",
       "      <td>NEUQUINA</td>\n",
       "      <td>Rio Negro</td>\n",
       "      <td>CONVENCIONAL</td>\n",
       "      <td>Sin Proyecto</td>\n",
       "      <td>EXPLORACION</td>\n",
       "      <td>EXPLORACION</td>\n",
       "      <td>NaN</td>\n",
       "      <td>2024-01-31</td>\n",
       "    </tr>\n",
       "    <tr>\n",
       "      <th>2</th>\n",
       "      <td>Z001</td>\n",
       "      <td>2024</td>\n",
       "      <td>1</td>\n",
       "      <td>145626</td>\n",
       "      <td>0.0</td>\n",
       "      <td>0.0</td>\n",
       "      <td>0.0</td>\n",
       "      <td>0.0</td>\n",
       "      <td>0.0</td>\n",
       "      <td>0.0</td>\n",
       "      <td>0.0</td>\n",
       "      <td>0.0</td>\n",
       "      <td>0.0</td>\n",
       "      <td>Sin Sistema de Extracción</td>\n",
       "      <td>Abandonado</td>\n",
       "      <td>Petrolífero</td>\n",
       "      <td>Cargado automáticamente como [Sin movimientos]</td>\n",
       "      <td>2024-02-22 22:45:06.486649</td>\n",
       "      <td>f</td>\n",
       "      <td>t</td>\n",
       "      <td>379</td>\n",
       "      <td>PETROLERA DEL COMAHUE S.A.</td>\n",
       "      <td>YPF.RN.-2</td>\n",
       "      <td>FIMP</td>\n",
       "      <td>1903.0</td>\n",
       "      <td>formación improductiva</td>\n",
       "      <td>AGR</td>\n",
       "      <td>GENERAL ROCA</td>\n",
       "      <td>AGR</td>\n",
       "      <td>GENERAL ROCA</td>\n",
       "      <td>NEUQUINA</td>\n",
       "      <td>Rio Negro</td>\n",
       "      <td>CONVENCIONAL</td>\n",
       "      <td>Sin Proyecto</td>\n",
       "      <td>EXPLORACION</td>\n",
       "      <td>EXPLORACION</td>\n",
       "      <td>NaN</td>\n",
       "      <td>2024-01-31</td>\n",
       "    </tr>\n",
       "    <tr>\n",
       "      <th>3</th>\n",
       "      <td>Z001</td>\n",
       "      <td>2024</td>\n",
       "      <td>1</td>\n",
       "      <td>145625</td>\n",
       "      <td>0.0</td>\n",
       "      <td>0.0</td>\n",
       "      <td>0.0</td>\n",
       "      <td>0.0</td>\n",
       "      <td>0.0</td>\n",
       "      <td>0.0</td>\n",
       "      <td>0.0</td>\n",
       "      <td>0.0</td>\n",
       "      <td>0.0</td>\n",
       "      <td>Sin Sistema de Extracción</td>\n",
       "      <td>Abandonado</td>\n",
       "      <td>Petrolífero</td>\n",
       "      <td>Cargado automáticamente como [Sin movimientos]</td>\n",
       "      <td>2024-02-22 22:45:06.486649</td>\n",
       "      <td>f</td>\n",
       "      <td>t</td>\n",
       "      <td>379</td>\n",
       "      <td>PETROLERA DEL COMAHUE S.A.</td>\n",
       "      <td>YPF.GR.x-5</td>\n",
       "      <td>FIMP</td>\n",
       "      <td>2707.0</td>\n",
       "      <td>formación improductiva</td>\n",
       "      <td>AGR</td>\n",
       "      <td>GENERAL ROCA</td>\n",
       "      <td>AGR</td>\n",
       "      <td>GENERAL ROCA</td>\n",
       "      <td>NEUQUINA</td>\n",
       "      <td>Rio Negro</td>\n",
       "      <td>CONVENCIONAL</td>\n",
       "      <td>Sin Proyecto</td>\n",
       "      <td>EXPLORACION</td>\n",
       "      <td>EXPLORACION</td>\n",
       "      <td>NaN</td>\n",
       "      <td>2024-01-31</td>\n",
       "    </tr>\n",
       "    <tr>\n",
       "      <th>4</th>\n",
       "      <td>Z001</td>\n",
       "      <td>2024</td>\n",
       "      <td>1</td>\n",
       "      <td>145623</td>\n",
       "      <td>0.0</td>\n",
       "      <td>0.0</td>\n",
       "      <td>0.0</td>\n",
       "      <td>0.0</td>\n",
       "      <td>0.0</td>\n",
       "      <td>0.0</td>\n",
       "      <td>0.0</td>\n",
       "      <td>0.0</td>\n",
       "      <td>0.0</td>\n",
       "      <td>Plunger Lift</td>\n",
       "      <td>Abandonado</td>\n",
       "      <td>Petrolífero</td>\n",
       "      <td>Cargado automáticamente como [Sin movimientos]</td>\n",
       "      <td>2024-02-22 22:45:06.486649</td>\n",
       "      <td>f</td>\n",
       "      <td>t</td>\n",
       "      <td>379</td>\n",
       "      <td>PETROLERA DEL COMAHUE S.A.</td>\n",
       "      <td>YPF.G.x-1</td>\n",
       "      <td>FIMP</td>\n",
       "      <td>2500.0</td>\n",
       "      <td>formación improductiva</td>\n",
       "      <td>AGR</td>\n",
       "      <td>GENERAL ROCA</td>\n",
       "      <td>AGR</td>\n",
       "      <td>GENERAL ROCA</td>\n",
       "      <td>NEUQUINA</td>\n",
       "      <td>Rio Negro</td>\n",
       "      <td>CONVENCIONAL</td>\n",
       "      <td>Sin Proyecto</td>\n",
       "      <td>EXPLORACION</td>\n",
       "      <td>EXPLORACION</td>\n",
       "      <td>NaN</td>\n",
       "      <td>2024-01-31</td>\n",
       "    </tr>\n",
       "  </tbody>\n",
       "</table>\n",
       "</div>"
      ],
      "text/plain": [
       "  idempresa  anio  mes  idpozo  prod_pet  prod_gas  prod_agua  iny_agua  \\\n",
       "0      Z001  2024    1  145622       0.0       0.0        0.0       0.0   \n",
       "1      Z001  2024    1  145624       0.0       0.0        0.0       0.0   \n",
       "2      Z001  2024    1  145626       0.0       0.0        0.0       0.0   \n",
       "3      Z001  2024    1  145625       0.0       0.0        0.0       0.0   \n",
       "4      Z001  2024    1  145623       0.0       0.0        0.0       0.0   \n",
       "\n",
       "   iny_gas  iny_co2  iny_otro  tef  vida_util             tipoextraccion  \\\n",
       "0      0.0      0.0       0.0  0.0        0.0  Sin Sistema de Extracción   \n",
       "1      0.0      0.0       0.0  0.0        0.0  Sin Sistema de Extracción   \n",
       "2      0.0      0.0       0.0  0.0        0.0  Sin Sistema de Extracción   \n",
       "3      0.0      0.0       0.0  0.0        0.0  Sin Sistema de Extracción   \n",
       "4      0.0      0.0       0.0  0.0        0.0               Plunger Lift   \n",
       "\n",
       "   tipoestado     tipopozo                                   observaciones  \\\n",
       "0  Abandonado  Petrolífero  Cargado automáticamente como [Sin movimientos]   \n",
       "1  Abandonado  Petrolífero  Cargado automáticamente como [Sin movimientos]   \n",
       "2  Abandonado  Petrolífero  Cargado automáticamente como [Sin movimientos]   \n",
       "3  Abandonado  Petrolífero  Cargado automáticamente como [Sin movimientos]   \n",
       "4  Abandonado  Petrolífero  Cargado automáticamente como [Sin movimientos]   \n",
       "\n",
       "                 fechaingreso rectificado habilitado  idusuario  \\\n",
       "0  2024-02-22 22:45:06.486649           f          t        379   \n",
       "1  2024-02-22 22:45:06.486649           f          t        379   \n",
       "2  2024-02-22 22:45:06.486649           f          t        379   \n",
       "3  2024-02-22 22:45:06.486649           f          t        379   \n",
       "4  2024-02-22 22:45:06.486649           f          t        379   \n",
       "\n",
       "                      empresa       sigla formprod  profundidad  \\\n",
       "0  PETROLERA DEL COMAHUE S.A.   JG.DJ.x-2     PROS       2402.0   \n",
       "1  PETROLERA DEL COMAHUE S.A.  YPF.GR.x-2     FIMP       2507.0   \n",
       "2  PETROLERA DEL COMAHUE S.A.   YPF.RN.-2     FIMP       1903.0   \n",
       "3  PETROLERA DEL COMAHUE S.A.  YPF.GR.x-5     FIMP       2707.0   \n",
       "4  PETROLERA DEL COMAHUE S.A.   YPF.G.x-1     FIMP       2500.0   \n",
       "\n",
       "                formacion idareapermisoconcesion areapermisoconcesion  \\\n",
       "0            punta rosada                    AGR        GENERAL ROCA    \n",
       "1  formación improductiva                    AGR        GENERAL ROCA    \n",
       "2  formación improductiva                    AGR        GENERAL ROCA    \n",
       "3  formación improductiva                    AGR        GENERAL ROCA    \n",
       "4  formación improductiva                    AGR        GENERAL ROCA    \n",
       "\n",
       "  idareayacimiento areayacimiento    cuenca  provincia tipo_de_recurso  \\\n",
       "0              AGR   GENERAL ROCA  NEUQUINA  Rio Negro    CONVENCIONAL   \n",
       "1              AGR   GENERAL ROCA  NEUQUINA  Rio Negro    CONVENCIONAL   \n",
       "2              AGR   GENERAL ROCA  NEUQUINA  Rio Negro    CONVENCIONAL   \n",
       "3              AGR   GENERAL ROCA  NEUQUINA  Rio Negro    CONVENCIONAL   \n",
       "4              AGR   GENERAL ROCA  NEUQUINA  Rio Negro    CONVENCIONAL   \n",
       "\n",
       "       proyecto clasificacion subclasificacion sub_tipo_recurso  fecha_data  \n",
       "0  Sin Proyecto   EXPLORACION      EXPLORACION              NaN  2024-01-31  \n",
       "1  Sin Proyecto   EXPLORACION      EXPLORACION              NaN  2024-01-31  \n",
       "2  Sin Proyecto   EXPLORACION      EXPLORACION              NaN  2024-01-31  \n",
       "3  Sin Proyecto   EXPLORACION      EXPLORACION              NaN  2024-01-31  \n",
       "4  Sin Proyecto   EXPLORACION      EXPLORACION              NaN  2024-01-31  "
      ]
     },
     "execution_count": 2,
     "metadata": {},
     "output_type": "execute_result"
    }
   ],
   "source": [
    "pd.set_option('display.max_columns', None)\n",
    "d2024.head()"
   ]
  },
  {
   "cell_type": "code",
   "execution_count": 3,
   "metadata": {},
   "outputs": [
    {
     "data": {
      "text/plain": [
       "idempresa                      0\n",
       "anio                           0\n",
       "mes                            0\n",
       "idpozo                         0\n",
       "prod_pet                       0\n",
       "prod_gas                       0\n",
       "prod_agua                      0\n",
       "iny_agua                       0\n",
       "iny_gas                        0\n",
       "iny_co2                        0\n",
       "iny_otro                       0\n",
       "tef                            0\n",
       "vida_util                 237292\n",
       "tipoextraccion                10\n",
       "tipoestado                    10\n",
       "tipopozo                      10\n",
       "observaciones             227177\n",
       "fechaingreso                   0\n",
       "rectificado                    0\n",
       "habilitado                     0\n",
       "idusuario                      0\n",
       "empresa                        0\n",
       "sigla                          0\n",
       "formprod                    8040\n",
       "profundidad                    0\n",
       "formacion                   8379\n",
       "idareapermisoconcesion         0\n",
       "areapermisoconcesion           0\n",
       "idareayacimiento               0\n",
       "areayacimiento                 0\n",
       "cuenca                         9\n",
       "provincia                      0\n",
       "tipo_de_recurso                0\n",
       "proyecto                       0\n",
       "clasificacion              50353\n",
       "subclasificacion           50353\n",
       "sub_tipo_recurso          230872\n",
       "fecha_data                     0\n",
       "dtype: int64"
      ]
     },
     "execution_count": 3,
     "metadata": {},
     "output_type": "execute_result"
    }
   ],
   "source": [
    "d2024.isna().sum()"
   ]
  },
  {
   "cell_type": "code",
   "execution_count": 4,
   "metadata": {},
   "outputs": [
    {
     "data": {
      "text/plain": [
       "(242437, 38)"
      ]
     },
     "execution_count": 4,
     "metadata": {},
     "output_type": "execute_result"
    }
   ],
   "source": [
    "d2024.shape"
   ]
  },
  {
   "cell_type": "markdown",
   "metadata": {},
   "source": [
    "### Limpieza de datos"
   ]
  },
  {
   "cell_type": "code",
   "execution_count": 5,
   "metadata": {},
   "outputs": [],
   "source": [
    "# Limpieza de df\n",
    "useful_columns = d2024[['anio','mes','idpozo','prod_pet','prod_gas','prod_agua','iny_agua','iny_gas','iny_co2','iny_otro','tipoextraccion','tipoestado','tipopozo','empresa','profundidad','cuenca','provincia','fecha_data']]\n",
    "my_dataframe = useful_columns.dropna()\n",
    "# Elimino estos datos por comodidad al graficar, ya que solo representan el 0.8% del total\n",
    "my_dataframe = my_dataframe[(my_dataframe['provincia']!='Estado Nacional') & (my_dataframe['provincia']!='Jujuy') & (my_dataframe['provincia']!='Formosa')]\n",
    "# Sub df para Mes, tipoEstado \n",
    "unique_mes = my_dataframe['mes'].unique()\n",
    "sub_mes = {}\n",
    "for n in unique_mes:\n",
    "    sub_mes[n] = my_dataframe.loc[my_dataframe['mes'] == n]"
   ]
  },
  {
   "cell_type": "code",
   "execution_count": 6,
   "metadata": {},
   "outputs": [],
   "source": [
    "# Seteo de meses\n",
    "mes1 = sub_mes[1] \n",
    "mes2 = sub_mes[2]\n",
    "mes3 = sub_mes[3]"
   ]
  },
  {
   "cell_type": "markdown",
   "metadata": {},
   "source": [
    "##### Marzo"
   ]
  },
  {
   "cell_type": "code",
   "execution_count": 7,
   "metadata": {},
   "outputs": [],
   "source": [
    "# Desglose mes de marzo \n",
    "# Activos\n",
    "activos = mes3[(mes3['tipoestado']=='Extracción Efectiva') | (mes3['tipoestado']==\"En Inyección Efectiva\")]"
   ]
  },
  {
   "cell_type": "markdown",
   "metadata": {},
   "source": [
    "### Analisis"
   ]
  },
  {
   "cell_type": "markdown",
   "metadata": {},
   "source": [
    "##### Cantidad de pozos por provicia"
   ]
  },
  {
   "cell_type": "code",
   "execution_count": 8,
   "metadata": {},
   "outputs": [
    {
     "data": {
      "application/vnd.plotly.v1+json": {
       "config": {
        "plotlyServerURL": "https://plot.ly"
       },
       "data": [
        {
         "name": "A Abandonar",
         "type": "bar",
         "x": [
          "Chubut",
          "La Pampa",
          "Mendoza",
          "Neuquén",
          "Rio Negro",
          "Salta",
          "Santa Cruz",
          "Tierra del Fuego"
         ],
         "y": [
          583,
          14,
          640,
          564,
          112,
          72,
          739,
          15
         ]
        },
        {
         "name": "Abandonado",
         "type": "bar",
         "x": [
          "Chubut",
          "La Pampa",
          "Mendoza",
          "Neuquén",
          "Rio Negro",
          "Salta",
          "Santa Cruz",
          "Tierra del Fuego"
         ],
         "y": [
          6103,
          280,
          1874,
          3119,
          1140,
          530,
          4771,
          412
         ]
        },
        {
         "name": "Abandono Temporario",
         "type": "bar",
         "x": [
          "Chubut",
          "La Pampa",
          "Mendoza",
          "Neuquén",
          "Rio Negro",
          "Salta",
          "Santa Cruz",
          "Tierra del Fuego"
         ],
         "y": [
          57,
          21,
          39,
          51,
          28,
          3,
          1181,
          12
         ]
        },
        {
         "name": "En Espera de Reparación",
         "type": "bar",
         "x": [
          "Chubut",
          "La Pampa",
          "Mendoza",
          "Neuquén",
          "Rio Negro",
          "Salta",
          "Santa Cruz",
          "Tierra del Fuego"
         ],
         "y": [
          231,
          139,
          277,
          657,
          143,
          0,
          376,
          32
         ]
        },
        {
         "name": "En Estudio",
         "type": "bar",
         "x": [
          "Chubut",
          "La Pampa",
          "Mendoza",
          "Neuquén",
          "Rio Negro",
          "Salta",
          "Santa Cruz",
          "Tierra del Fuego"
         ],
         "y": [
          1388,
          155,
          614,
          2405,
          371,
          88,
          2311,
          111
         ]
        },
        {
         "name": "En Inyección Efectiva",
         "type": "bar",
         "x": [
          "Chubut",
          "La Pampa",
          "Mendoza",
          "Neuquén",
          "Rio Negro",
          "Salta",
          "Santa Cruz",
          "Tierra del Fuego"
         ],
         "y": [
          2103,
          225,
          913,
          1067,
          265,
          11,
          1473,
          24
         ]
        },
        {
         "name": "En Reparación",
         "type": "bar",
         "x": [
          "Chubut",
          "La Pampa",
          "Mendoza",
          "Neuquén",
          "Rio Negro",
          "Salta",
          "Santa Cruz",
          "Tierra del Fuego"
         ],
         "y": [
          14,
          0,
          1,
          19,
          3,
          0,
          1,
          0
         ]
        },
        {
         "name": "En Reserva de Gas",
         "type": "bar",
         "x": [
          "Chubut",
          "La Pampa",
          "Mendoza",
          "Neuquén",
          "Rio Negro",
          "Salta",
          "Santa Cruz",
          "Tierra del Fuego"
         ],
         "y": [
          72,
          3,
          120,
          187,
          10,
          0,
          118,
          47
         ]
        },
        {
         "name": "En Reserva para Recup. Sec./Asist.",
         "type": "bar",
         "x": [
          "Chubut",
          "La Pampa",
          "Mendoza",
          "Neuquén",
          "Rio Negro",
          "Salta",
          "Santa Cruz",
          "Tierra del Fuego"
         ],
         "y": [
          2678,
          2,
          409,
          948,
          80,
          0,
          3469,
          211
         ]
        },
        {
         "name": "Extracción Efectiva",
         "type": "bar",
         "x": [
          "Chubut",
          "La Pampa",
          "Mendoza",
          "Neuquén",
          "Rio Negro",
          "Salta",
          "Santa Cruz",
          "Tierra del Fuego"
         ],
         "y": [
          6666,
          1493,
          2778,
          6503,
          1052,
          61,
          7399,
          226
         ]
        },
        {
         "name": "Mantenimiento de Presión",
         "type": "bar",
         "x": [
          "Chubut",
          "La Pampa",
          "Mendoza",
          "Neuquén",
          "Rio Negro",
          "Salta",
          "Santa Cruz",
          "Tierra del Fuego"
         ],
         "y": [
          0,
          0,
          3,
          10,
          2,
          10,
          17,
          0
         ]
        },
        {
         "name": "Otras Situación Activo",
         "type": "bar",
         "x": [
          "Chubut",
          "La Pampa",
          "Mendoza",
          "Neuquén",
          "Rio Negro",
          "Salta",
          "Santa Cruz",
          "Tierra del Fuego"
         ],
         "y": [
          42,
          0,
          4,
          151,
          6,
          0,
          1,
          1
         ]
        },
        {
         "name": "Otras Situación Inactivo",
         "type": "bar",
         "x": [
          "Chubut",
          "La Pampa",
          "Mendoza",
          "Neuquén",
          "Rio Negro",
          "Salta",
          "Santa Cruz",
          "Tierra del Fuego"
         ],
         "y": [
          109,
          3,
          36,
          148,
          51,
          17,
          417,
          63
         ]
        },
        {
         "name": "Parado Alta Relación Agua/Petróleo",
         "type": "bar",
         "x": [
          "Chubut",
          "La Pampa",
          "Mendoza",
          "Neuquén",
          "Rio Negro",
          "Salta",
          "Santa Cruz",
          "Tierra del Fuego"
         ],
         "y": [
          99,
          18,
          385,
          197,
          195,
          1,
          81,
          2
         ]
        },
        {
         "name": "Parado Alta Relación Gas/Petróleo",
         "type": "bar",
         "x": [
          "Chubut",
          "La Pampa",
          "Mendoza",
          "Neuquén",
          "Rio Negro",
          "Salta",
          "Santa Cruz",
          "Tierra del Fuego"
         ],
         "y": [
          49,
          3,
          9,
          15,
          3,
          1,
          18,
          2
         ]
        },
        {
         "name": "Parado Transitoriamente",
         "type": "bar",
         "x": [
          "Chubut",
          "La Pampa",
          "Mendoza",
          "Neuquén",
          "Rio Negro",
          "Salta",
          "Santa Cruz",
          "Tierra del Fuego"
         ],
         "y": [
          717,
          331,
          454,
          1758,
          178,
          100,
          1060,
          77
         ]
        }
       ],
       "layout": {
        "barmode": "stack",
        "legend": {
         "title": {
          "text": "Tipo Estado"
         }
        },
        "template": {
         "data": {
          "bar": [
           {
            "error_x": {
             "color": "#2a3f5f"
            },
            "error_y": {
             "color": "#2a3f5f"
            },
            "marker": {
             "line": {
              "color": "#E5ECF6",
              "width": 0.5
             },
             "pattern": {
              "fillmode": "overlay",
              "size": 10,
              "solidity": 0.2
             }
            },
            "type": "bar"
           }
          ],
          "barpolar": [
           {
            "marker": {
             "line": {
              "color": "#E5ECF6",
              "width": 0.5
             },
             "pattern": {
              "fillmode": "overlay",
              "size": 10,
              "solidity": 0.2
             }
            },
            "type": "barpolar"
           }
          ],
          "carpet": [
           {
            "aaxis": {
             "endlinecolor": "#2a3f5f",
             "gridcolor": "white",
             "linecolor": "white",
             "minorgridcolor": "white",
             "startlinecolor": "#2a3f5f"
            },
            "baxis": {
             "endlinecolor": "#2a3f5f",
             "gridcolor": "white",
             "linecolor": "white",
             "minorgridcolor": "white",
             "startlinecolor": "#2a3f5f"
            },
            "type": "carpet"
           }
          ],
          "choropleth": [
           {
            "colorbar": {
             "outlinewidth": 0,
             "ticks": ""
            },
            "type": "choropleth"
           }
          ],
          "contour": [
           {
            "colorbar": {
             "outlinewidth": 0,
             "ticks": ""
            },
            "colorscale": [
             [
              0,
              "#0d0887"
             ],
             [
              0.1111111111111111,
              "#46039f"
             ],
             [
              0.2222222222222222,
              "#7201a8"
             ],
             [
              0.3333333333333333,
              "#9c179e"
             ],
             [
              0.4444444444444444,
              "#bd3786"
             ],
             [
              0.5555555555555556,
              "#d8576b"
             ],
             [
              0.6666666666666666,
              "#ed7953"
             ],
             [
              0.7777777777777778,
              "#fb9f3a"
             ],
             [
              0.8888888888888888,
              "#fdca26"
             ],
             [
              1,
              "#f0f921"
             ]
            ],
            "type": "contour"
           }
          ],
          "contourcarpet": [
           {
            "colorbar": {
             "outlinewidth": 0,
             "ticks": ""
            },
            "type": "contourcarpet"
           }
          ],
          "heatmap": [
           {
            "colorbar": {
             "outlinewidth": 0,
             "ticks": ""
            },
            "colorscale": [
             [
              0,
              "#0d0887"
             ],
             [
              0.1111111111111111,
              "#46039f"
             ],
             [
              0.2222222222222222,
              "#7201a8"
             ],
             [
              0.3333333333333333,
              "#9c179e"
             ],
             [
              0.4444444444444444,
              "#bd3786"
             ],
             [
              0.5555555555555556,
              "#d8576b"
             ],
             [
              0.6666666666666666,
              "#ed7953"
             ],
             [
              0.7777777777777778,
              "#fb9f3a"
             ],
             [
              0.8888888888888888,
              "#fdca26"
             ],
             [
              1,
              "#f0f921"
             ]
            ],
            "type": "heatmap"
           }
          ],
          "heatmapgl": [
           {
            "colorbar": {
             "outlinewidth": 0,
             "ticks": ""
            },
            "colorscale": [
             [
              0,
              "#0d0887"
             ],
             [
              0.1111111111111111,
              "#46039f"
             ],
             [
              0.2222222222222222,
              "#7201a8"
             ],
             [
              0.3333333333333333,
              "#9c179e"
             ],
             [
              0.4444444444444444,
              "#bd3786"
             ],
             [
              0.5555555555555556,
              "#d8576b"
             ],
             [
              0.6666666666666666,
              "#ed7953"
             ],
             [
              0.7777777777777778,
              "#fb9f3a"
             ],
             [
              0.8888888888888888,
              "#fdca26"
             ],
             [
              1,
              "#f0f921"
             ]
            ],
            "type": "heatmapgl"
           }
          ],
          "histogram": [
           {
            "marker": {
             "pattern": {
              "fillmode": "overlay",
              "size": 10,
              "solidity": 0.2
             }
            },
            "type": "histogram"
           }
          ],
          "histogram2d": [
           {
            "colorbar": {
             "outlinewidth": 0,
             "ticks": ""
            },
            "colorscale": [
             [
              0,
              "#0d0887"
             ],
             [
              0.1111111111111111,
              "#46039f"
             ],
             [
              0.2222222222222222,
              "#7201a8"
             ],
             [
              0.3333333333333333,
              "#9c179e"
             ],
             [
              0.4444444444444444,
              "#bd3786"
             ],
             [
              0.5555555555555556,
              "#d8576b"
             ],
             [
              0.6666666666666666,
              "#ed7953"
             ],
             [
              0.7777777777777778,
              "#fb9f3a"
             ],
             [
              0.8888888888888888,
              "#fdca26"
             ],
             [
              1,
              "#f0f921"
             ]
            ],
            "type": "histogram2d"
           }
          ],
          "histogram2dcontour": [
           {
            "colorbar": {
             "outlinewidth": 0,
             "ticks": ""
            },
            "colorscale": [
             [
              0,
              "#0d0887"
             ],
             [
              0.1111111111111111,
              "#46039f"
             ],
             [
              0.2222222222222222,
              "#7201a8"
             ],
             [
              0.3333333333333333,
              "#9c179e"
             ],
             [
              0.4444444444444444,
              "#bd3786"
             ],
             [
              0.5555555555555556,
              "#d8576b"
             ],
             [
              0.6666666666666666,
              "#ed7953"
             ],
             [
              0.7777777777777778,
              "#fb9f3a"
             ],
             [
              0.8888888888888888,
              "#fdca26"
             ],
             [
              1,
              "#f0f921"
             ]
            ],
            "type": "histogram2dcontour"
           }
          ],
          "mesh3d": [
           {
            "colorbar": {
             "outlinewidth": 0,
             "ticks": ""
            },
            "type": "mesh3d"
           }
          ],
          "parcoords": [
           {
            "line": {
             "colorbar": {
              "outlinewidth": 0,
              "ticks": ""
             }
            },
            "type": "parcoords"
           }
          ],
          "pie": [
           {
            "automargin": true,
            "type": "pie"
           }
          ],
          "scatter": [
           {
            "fillpattern": {
             "fillmode": "overlay",
             "size": 10,
             "solidity": 0.2
            },
            "type": "scatter"
           }
          ],
          "scatter3d": [
           {
            "line": {
             "colorbar": {
              "outlinewidth": 0,
              "ticks": ""
             }
            },
            "marker": {
             "colorbar": {
              "outlinewidth": 0,
              "ticks": ""
             }
            },
            "type": "scatter3d"
           }
          ],
          "scattercarpet": [
           {
            "marker": {
             "colorbar": {
              "outlinewidth": 0,
              "ticks": ""
             }
            },
            "type": "scattercarpet"
           }
          ],
          "scattergeo": [
           {
            "marker": {
             "colorbar": {
              "outlinewidth": 0,
              "ticks": ""
             }
            },
            "type": "scattergeo"
           }
          ],
          "scattergl": [
           {
            "marker": {
             "colorbar": {
              "outlinewidth": 0,
              "ticks": ""
             }
            },
            "type": "scattergl"
           }
          ],
          "scattermapbox": [
           {
            "marker": {
             "colorbar": {
              "outlinewidth": 0,
              "ticks": ""
             }
            },
            "type": "scattermapbox"
           }
          ],
          "scatterpolar": [
           {
            "marker": {
             "colorbar": {
              "outlinewidth": 0,
              "ticks": ""
             }
            },
            "type": "scatterpolar"
           }
          ],
          "scatterpolargl": [
           {
            "marker": {
             "colorbar": {
              "outlinewidth": 0,
              "ticks": ""
             }
            },
            "type": "scatterpolargl"
           }
          ],
          "scatterternary": [
           {
            "marker": {
             "colorbar": {
              "outlinewidth": 0,
              "ticks": ""
             }
            },
            "type": "scatterternary"
           }
          ],
          "surface": [
           {
            "colorbar": {
             "outlinewidth": 0,
             "ticks": ""
            },
            "colorscale": [
             [
              0,
              "#0d0887"
             ],
             [
              0.1111111111111111,
              "#46039f"
             ],
             [
              0.2222222222222222,
              "#7201a8"
             ],
             [
              0.3333333333333333,
              "#9c179e"
             ],
             [
              0.4444444444444444,
              "#bd3786"
             ],
             [
              0.5555555555555556,
              "#d8576b"
             ],
             [
              0.6666666666666666,
              "#ed7953"
             ],
             [
              0.7777777777777778,
              "#fb9f3a"
             ],
             [
              0.8888888888888888,
              "#fdca26"
             ],
             [
              1,
              "#f0f921"
             ]
            ],
            "type": "surface"
           }
          ],
          "table": [
           {
            "cells": {
             "fill": {
              "color": "#EBF0F8"
             },
             "line": {
              "color": "white"
             }
            },
            "header": {
             "fill": {
              "color": "#C8D4E3"
             },
             "line": {
              "color": "white"
             }
            },
            "type": "table"
           }
          ]
         },
         "layout": {
          "annotationdefaults": {
           "arrowcolor": "#2a3f5f",
           "arrowhead": 0,
           "arrowwidth": 1
          },
          "autotypenumbers": "strict",
          "coloraxis": {
           "colorbar": {
            "outlinewidth": 0,
            "ticks": ""
           }
          },
          "colorscale": {
           "diverging": [
            [
             0,
             "#8e0152"
            ],
            [
             0.1,
             "#c51b7d"
            ],
            [
             0.2,
             "#de77ae"
            ],
            [
             0.3,
             "#f1b6da"
            ],
            [
             0.4,
             "#fde0ef"
            ],
            [
             0.5,
             "#f7f7f7"
            ],
            [
             0.6,
             "#e6f5d0"
            ],
            [
             0.7,
             "#b8e186"
            ],
            [
             0.8,
             "#7fbc41"
            ],
            [
             0.9,
             "#4d9221"
            ],
            [
             1,
             "#276419"
            ]
           ],
           "sequential": [
            [
             0,
             "#0d0887"
            ],
            [
             0.1111111111111111,
             "#46039f"
            ],
            [
             0.2222222222222222,
             "#7201a8"
            ],
            [
             0.3333333333333333,
             "#9c179e"
            ],
            [
             0.4444444444444444,
             "#bd3786"
            ],
            [
             0.5555555555555556,
             "#d8576b"
            ],
            [
             0.6666666666666666,
             "#ed7953"
            ],
            [
             0.7777777777777778,
             "#fb9f3a"
            ],
            [
             0.8888888888888888,
             "#fdca26"
            ],
            [
             1,
             "#f0f921"
            ]
           ],
           "sequentialminus": [
            [
             0,
             "#0d0887"
            ],
            [
             0.1111111111111111,
             "#46039f"
            ],
            [
             0.2222222222222222,
             "#7201a8"
            ],
            [
             0.3333333333333333,
             "#9c179e"
            ],
            [
             0.4444444444444444,
             "#bd3786"
            ],
            [
             0.5555555555555556,
             "#d8576b"
            ],
            [
             0.6666666666666666,
             "#ed7953"
            ],
            [
             0.7777777777777778,
             "#fb9f3a"
            ],
            [
             0.8888888888888888,
             "#fdca26"
            ],
            [
             1,
             "#f0f921"
            ]
           ]
          },
          "colorway": [
           "#636efa",
           "#EF553B",
           "#00cc96",
           "#ab63fa",
           "#FFA15A",
           "#19d3f3",
           "#FF6692",
           "#B6E880",
           "#FF97FF",
           "#FECB52"
          ],
          "font": {
           "color": "#2a3f5f"
          },
          "geo": {
           "bgcolor": "white",
           "lakecolor": "white",
           "landcolor": "#E5ECF6",
           "showlakes": true,
           "showland": true,
           "subunitcolor": "white"
          },
          "hoverlabel": {
           "align": "left"
          },
          "hovermode": "closest",
          "mapbox": {
           "style": "light"
          },
          "paper_bgcolor": "white",
          "plot_bgcolor": "#E5ECF6",
          "polar": {
           "angularaxis": {
            "gridcolor": "white",
            "linecolor": "white",
            "ticks": ""
           },
           "bgcolor": "#E5ECF6",
           "radialaxis": {
            "gridcolor": "white",
            "linecolor": "white",
            "ticks": ""
           }
          },
          "scene": {
           "xaxis": {
            "backgroundcolor": "#E5ECF6",
            "gridcolor": "white",
            "gridwidth": 2,
            "linecolor": "white",
            "showbackground": true,
            "ticks": "",
            "zerolinecolor": "white"
           },
           "yaxis": {
            "backgroundcolor": "#E5ECF6",
            "gridcolor": "white",
            "gridwidth": 2,
            "linecolor": "white",
            "showbackground": true,
            "ticks": "",
            "zerolinecolor": "white"
           },
           "zaxis": {
            "backgroundcolor": "#E5ECF6",
            "gridcolor": "white",
            "gridwidth": 2,
            "linecolor": "white",
            "showbackground": true,
            "ticks": "",
            "zerolinecolor": "white"
           }
          },
          "shapedefaults": {
           "line": {
            "color": "#2a3f5f"
           }
          },
          "ternary": {
           "aaxis": {
            "gridcolor": "white",
            "linecolor": "white",
            "ticks": ""
           },
           "baxis": {
            "gridcolor": "white",
            "linecolor": "white",
            "ticks": ""
           },
           "bgcolor": "#E5ECF6",
           "caxis": {
            "gridcolor": "white",
            "linecolor": "white",
            "ticks": ""
           }
          },
          "title": {
           "x": 0.05
          },
          "xaxis": {
           "automargin": true,
           "gridcolor": "white",
           "linecolor": "white",
           "ticks": "",
           "title": {
            "standoff": 15
           },
           "zerolinecolor": "white",
           "zerolinewidth": 2
          },
          "yaxis": {
           "automargin": true,
           "gridcolor": "white",
           "linecolor": "white",
           "ticks": "",
           "title": {
            "standoff": 15
           },
           "zerolinecolor": "white",
           "zerolinewidth": 2
          }
         }
        },
        "title": {
         "text": "Total de pozos por provincia"
        },
        "xaxis": {
         "title": {
          "text": "Provincia"
         }
        },
        "yaxis": {
         "title": {
          "text": "Cantidad"
         }
        }
       }
      }
     },
     "metadata": {},
     "output_type": "display_data"
    }
   ],
   "source": [
    "# df para la gracica\n",
    "data = mes3[['provincia','tipoestado']]\n",
    "pozos_por_provincia = data.pivot_table(index='provincia', columns='tipoestado', aggfunc='size', fill_value=0)\n",
    "# instancia figura\n",
    "fig = go.Figure()\n",
    "# Añado un barra para cada tipo\n",
    "for tipoestado in pozos_por_provincia.columns:\n",
    "    fig.add_trace(go.Bar( \n",
    "        x=pozos_por_provincia.index, #provincias \n",
    "        y=pozos_por_provincia[tipoestado],\n",
    "        name=tipoestado\n",
    "        ))\n",
    "# Diseño del grafico\n",
    "fig.update_layout(\n",
    "    barmode='stack',\n",
    "    title='Total de pozos por provincia',\n",
    "    xaxis=dict(title='Provincia'),\n",
    "    yaxis=dict(title='Cantidad'),\n",
    "    legend=dict(title='Tipo Estado')\n",
    ")\n",
    "# Show\n",
    "fig.show()"
   ]
  },
  {
   "cell_type": "markdown",
   "metadata": {},
   "source": [
    "Tabla con los datos presentados en la grafica anterior"
   ]
  },
  {
   "cell_type": "code",
   "execution_count": 9,
   "metadata": {},
   "outputs": [
    {
     "data": {
      "text/html": [
       "<div>\n",
       "<style scoped>\n",
       "    .dataframe tbody tr th:only-of-type {\n",
       "        vertical-align: middle;\n",
       "    }\n",
       "\n",
       "    .dataframe tbody tr th {\n",
       "        vertical-align: top;\n",
       "    }\n",
       "\n",
       "    .dataframe thead th {\n",
       "        text-align: right;\n",
       "    }\n",
       "</style>\n",
       "<table border=\"1\" class=\"dataframe\">\n",
       "  <thead>\n",
       "    <tr style=\"text-align: right;\">\n",
       "      <th>tipoestado</th>\n",
       "      <th>Totales</th>\n",
       "      <th>A Abandonar</th>\n",
       "      <th>Abandonado</th>\n",
       "      <th>Abandono Temporario</th>\n",
       "      <th>En Espera de Reparación</th>\n",
       "      <th>En Estudio</th>\n",
       "      <th>En Inyección Efectiva</th>\n",
       "      <th>En Reparación</th>\n",
       "      <th>En Reserva de Gas</th>\n",
       "      <th>En Reserva para Recup. Sec./Asist.</th>\n",
       "      <th>Extracción Efectiva</th>\n",
       "      <th>Mantenimiento de Presión</th>\n",
       "      <th>Otras Situación Activo</th>\n",
       "      <th>Otras Situación Inactivo</th>\n",
       "      <th>Parado Alta Relación Agua/Petróleo</th>\n",
       "      <th>Parado Alta Relación Gas/Petróleo</th>\n",
       "      <th>Parado Transitoriamente</th>\n",
       "    </tr>\n",
       "    <tr>\n",
       "      <th>provincia</th>\n",
       "      <th></th>\n",
       "      <th></th>\n",
       "      <th></th>\n",
       "      <th></th>\n",
       "      <th></th>\n",
       "      <th></th>\n",
       "      <th></th>\n",
       "      <th></th>\n",
       "      <th></th>\n",
       "      <th></th>\n",
       "      <th></th>\n",
       "      <th></th>\n",
       "      <th></th>\n",
       "      <th></th>\n",
       "      <th></th>\n",
       "      <th></th>\n",
       "      <th></th>\n",
       "    </tr>\n",
       "  </thead>\n",
       "  <tbody>\n",
       "    <tr>\n",
       "      <th>Chubut</th>\n",
       "      <td>20911</td>\n",
       "      <td>583</td>\n",
       "      <td>6103</td>\n",
       "      <td>57</td>\n",
       "      <td>231</td>\n",
       "      <td>1388</td>\n",
       "      <td>2103</td>\n",
       "      <td>14</td>\n",
       "      <td>72</td>\n",
       "      <td>2678</td>\n",
       "      <td>6666</td>\n",
       "      <td>0</td>\n",
       "      <td>42</td>\n",
       "      <td>109</td>\n",
       "      <td>99</td>\n",
       "      <td>49</td>\n",
       "      <td>717</td>\n",
       "    </tr>\n",
       "    <tr>\n",
       "      <th>La Pampa</th>\n",
       "      <td>2687</td>\n",
       "      <td>14</td>\n",
       "      <td>280</td>\n",
       "      <td>21</td>\n",
       "      <td>139</td>\n",
       "      <td>155</td>\n",
       "      <td>225</td>\n",
       "      <td>0</td>\n",
       "      <td>3</td>\n",
       "      <td>2</td>\n",
       "      <td>1493</td>\n",
       "      <td>0</td>\n",
       "      <td>0</td>\n",
       "      <td>3</td>\n",
       "      <td>18</td>\n",
       "      <td>3</td>\n",
       "      <td>331</td>\n",
       "    </tr>\n",
       "    <tr>\n",
       "      <th>Mendoza</th>\n",
       "      <td>8556</td>\n",
       "      <td>640</td>\n",
       "      <td>1874</td>\n",
       "      <td>39</td>\n",
       "      <td>277</td>\n",
       "      <td>614</td>\n",
       "      <td>913</td>\n",
       "      <td>1</td>\n",
       "      <td>120</td>\n",
       "      <td>409</td>\n",
       "      <td>2778</td>\n",
       "      <td>3</td>\n",
       "      <td>4</td>\n",
       "      <td>36</td>\n",
       "      <td>385</td>\n",
       "      <td>9</td>\n",
       "      <td>454</td>\n",
       "    </tr>\n",
       "    <tr>\n",
       "      <th>Neuquén</th>\n",
       "      <td>17799</td>\n",
       "      <td>564</td>\n",
       "      <td>3119</td>\n",
       "      <td>51</td>\n",
       "      <td>657</td>\n",
       "      <td>2405</td>\n",
       "      <td>1067</td>\n",
       "      <td>19</td>\n",
       "      <td>187</td>\n",
       "      <td>948</td>\n",
       "      <td>6503</td>\n",
       "      <td>10</td>\n",
       "      <td>151</td>\n",
       "      <td>148</td>\n",
       "      <td>197</td>\n",
       "      <td>15</td>\n",
       "      <td>1758</td>\n",
       "    </tr>\n",
       "    <tr>\n",
       "      <th>Rio Negro</th>\n",
       "      <td>3639</td>\n",
       "      <td>112</td>\n",
       "      <td>1140</td>\n",
       "      <td>28</td>\n",
       "      <td>143</td>\n",
       "      <td>371</td>\n",
       "      <td>265</td>\n",
       "      <td>3</td>\n",
       "      <td>10</td>\n",
       "      <td>80</td>\n",
       "      <td>1052</td>\n",
       "      <td>2</td>\n",
       "      <td>6</td>\n",
       "      <td>51</td>\n",
       "      <td>195</td>\n",
       "      <td>3</td>\n",
       "      <td>178</td>\n",
       "    </tr>\n",
       "    <tr>\n",
       "      <th>Salta</th>\n",
       "      <td>894</td>\n",
       "      <td>72</td>\n",
       "      <td>530</td>\n",
       "      <td>3</td>\n",
       "      <td>0</td>\n",
       "      <td>88</td>\n",
       "      <td>11</td>\n",
       "      <td>0</td>\n",
       "      <td>0</td>\n",
       "      <td>0</td>\n",
       "      <td>61</td>\n",
       "      <td>10</td>\n",
       "      <td>0</td>\n",
       "      <td>17</td>\n",
       "      <td>1</td>\n",
       "      <td>1</td>\n",
       "      <td>100</td>\n",
       "    </tr>\n",
       "    <tr>\n",
       "      <th>Santa Cruz</th>\n",
       "      <td>23432</td>\n",
       "      <td>739</td>\n",
       "      <td>4771</td>\n",
       "      <td>1181</td>\n",
       "      <td>376</td>\n",
       "      <td>2311</td>\n",
       "      <td>1473</td>\n",
       "      <td>1</td>\n",
       "      <td>118</td>\n",
       "      <td>3469</td>\n",
       "      <td>7399</td>\n",
       "      <td>17</td>\n",
       "      <td>1</td>\n",
       "      <td>417</td>\n",
       "      <td>81</td>\n",
       "      <td>18</td>\n",
       "      <td>1060</td>\n",
       "    </tr>\n",
       "    <tr>\n",
       "      <th>Tierra del Fuego</th>\n",
       "      <td>1235</td>\n",
       "      <td>15</td>\n",
       "      <td>412</td>\n",
       "      <td>12</td>\n",
       "      <td>32</td>\n",
       "      <td>111</td>\n",
       "      <td>24</td>\n",
       "      <td>0</td>\n",
       "      <td>47</td>\n",
       "      <td>211</td>\n",
       "      <td>226</td>\n",
       "      <td>0</td>\n",
       "      <td>1</td>\n",
       "      <td>63</td>\n",
       "      <td>2</td>\n",
       "      <td>2</td>\n",
       "      <td>77</td>\n",
       "    </tr>\n",
       "  </tbody>\n",
       "</table>\n",
       "</div>"
      ],
      "text/plain": [
       "tipoestado        Totales  A Abandonar  Abandonado  Abandono Temporario  \\\n",
       "provincia                                                                 \n",
       "Chubut              20911          583        6103                   57   \n",
       "La Pampa             2687           14         280                   21   \n",
       "Mendoza              8556          640        1874                   39   \n",
       "Neuquén             17799          564        3119                   51   \n",
       "Rio Negro            3639          112        1140                   28   \n",
       "Salta                 894           72         530                    3   \n",
       "Santa Cruz          23432          739        4771                 1181   \n",
       "Tierra del Fuego     1235           15         412                   12   \n",
       "\n",
       "tipoestado        En Espera de Reparación  En Estudio  En Inyección Efectiva  \\\n",
       "provincia                                                                      \n",
       "Chubut                                231        1388                   2103   \n",
       "La Pampa                              139         155                    225   \n",
       "Mendoza                               277         614                    913   \n",
       "Neuquén                               657        2405                   1067   \n",
       "Rio Negro                             143         371                    265   \n",
       "Salta                                   0          88                     11   \n",
       "Santa Cruz                            376        2311                   1473   \n",
       "Tierra del Fuego                       32         111                     24   \n",
       "\n",
       "tipoestado        En Reparación  En Reserva de Gas  \\\n",
       "provincia                                            \n",
       "Chubut                       14                 72   \n",
       "La Pampa                      0                  3   \n",
       "Mendoza                       1                120   \n",
       "Neuquén                      19                187   \n",
       "Rio Negro                     3                 10   \n",
       "Salta                         0                  0   \n",
       "Santa Cruz                    1                118   \n",
       "Tierra del Fuego              0                 47   \n",
       "\n",
       "tipoestado        En Reserva para Recup. Sec./Asist.  Extracción Efectiva  \\\n",
       "provincia                                                                   \n",
       "Chubut                                          2678                 6666   \n",
       "La Pampa                                           2                 1493   \n",
       "Mendoza                                          409                 2778   \n",
       "Neuquén                                          948                 6503   \n",
       "Rio Negro                                         80                 1052   \n",
       "Salta                                              0                   61   \n",
       "Santa Cruz                                      3469                 7399   \n",
       "Tierra del Fuego                                 211                  226   \n",
       "\n",
       "tipoestado        Mantenimiento de Presión  Otras Situación Activo  \\\n",
       "provincia                                                            \n",
       "Chubut                                   0                      42   \n",
       "La Pampa                                 0                       0   \n",
       "Mendoza                                  3                       4   \n",
       "Neuquén                                 10                     151   \n",
       "Rio Negro                                2                       6   \n",
       "Salta                                   10                       0   \n",
       "Santa Cruz                              17                       1   \n",
       "Tierra del Fuego                         0                       1   \n",
       "\n",
       "tipoestado        Otras Situación Inactivo  \\\n",
       "provincia                                    \n",
       "Chubut                                 109   \n",
       "La Pampa                                 3   \n",
       "Mendoza                                 36   \n",
       "Neuquén                                148   \n",
       "Rio Negro                               51   \n",
       "Salta                                   17   \n",
       "Santa Cruz                             417   \n",
       "Tierra del Fuego                        63   \n",
       "\n",
       "tipoestado        Parado Alta Relación Agua/Petróleo  \\\n",
       "provincia                                              \n",
       "Chubut                                            99   \n",
       "La Pampa                                          18   \n",
       "Mendoza                                          385   \n",
       "Neuquén                                          197   \n",
       "Rio Negro                                        195   \n",
       "Salta                                              1   \n",
       "Santa Cruz                                        81   \n",
       "Tierra del Fuego                                   2   \n",
       "\n",
       "tipoestado        Parado Alta Relación Gas/Petróleo  Parado Transitoriamente  \n",
       "provincia                                                                     \n",
       "Chubut                                           49                      717  \n",
       "La Pampa                                          3                      331  \n",
       "Mendoza                                           9                      454  \n",
       "Neuquén                                          15                     1758  \n",
       "Rio Negro                                         3                      178  \n",
       "Salta                                             1                      100  \n",
       "Santa Cruz                                       18                     1060  \n",
       "Tierra del Fuego                                  2                       77  "
      ]
     },
     "execution_count": 9,
     "metadata": {},
     "output_type": "execute_result"
    }
   ],
   "source": [
    "sumatoria = pozos_por_provincia.sum(axis=1) \n",
    "pozos_por_provincia.insert(0,'Totales', sumatoria)\n",
    "pozos_por_provincia"
   ]
  },
  {
   "cell_type": "markdown",
   "metadata": {},
   "source": [
    "#### Total de pozos no abandonados por provincia"
   ]
  },
  {
   "cell_type": "code",
   "execution_count": 10,
   "metadata": {},
   "outputs": [
    {
     "data": {
      "application/vnd.plotly.v1+json": {
       "config": {
        "plotlyServerURL": "https://plot.ly"
       },
       "data": [
        {
         "hoverinfo": "label+percent",
         "labels": [
          "Chubut",
          "La Pampa",
          "Mendoza",
          "Neuquén",
          "Rio Negro",
          "Salta",
          "Santa Cruz",
          "Tierra del Fuego"
         ],
         "textfont": {
          "size": 15
         },
         "textinfo": "value+percent",
         "type": "pie",
         "values": [
          14808,
          2407,
          6682,
          14680,
          2499,
          364,
          18661,
          823
         ]
        }
       ],
       "layout": {
        "template": {
         "data": {
          "bar": [
           {
            "error_x": {
             "color": "#2a3f5f"
            },
            "error_y": {
             "color": "#2a3f5f"
            },
            "marker": {
             "line": {
              "color": "#E5ECF6",
              "width": 0.5
             },
             "pattern": {
              "fillmode": "overlay",
              "size": 10,
              "solidity": 0.2
             }
            },
            "type": "bar"
           }
          ],
          "barpolar": [
           {
            "marker": {
             "line": {
              "color": "#E5ECF6",
              "width": 0.5
             },
             "pattern": {
              "fillmode": "overlay",
              "size": 10,
              "solidity": 0.2
             }
            },
            "type": "barpolar"
           }
          ],
          "carpet": [
           {
            "aaxis": {
             "endlinecolor": "#2a3f5f",
             "gridcolor": "white",
             "linecolor": "white",
             "minorgridcolor": "white",
             "startlinecolor": "#2a3f5f"
            },
            "baxis": {
             "endlinecolor": "#2a3f5f",
             "gridcolor": "white",
             "linecolor": "white",
             "minorgridcolor": "white",
             "startlinecolor": "#2a3f5f"
            },
            "type": "carpet"
           }
          ],
          "choropleth": [
           {
            "colorbar": {
             "outlinewidth": 0,
             "ticks": ""
            },
            "type": "choropleth"
           }
          ],
          "contour": [
           {
            "colorbar": {
             "outlinewidth": 0,
             "ticks": ""
            },
            "colorscale": [
             [
              0,
              "#0d0887"
             ],
             [
              0.1111111111111111,
              "#46039f"
             ],
             [
              0.2222222222222222,
              "#7201a8"
             ],
             [
              0.3333333333333333,
              "#9c179e"
             ],
             [
              0.4444444444444444,
              "#bd3786"
             ],
             [
              0.5555555555555556,
              "#d8576b"
             ],
             [
              0.6666666666666666,
              "#ed7953"
             ],
             [
              0.7777777777777778,
              "#fb9f3a"
             ],
             [
              0.8888888888888888,
              "#fdca26"
             ],
             [
              1,
              "#f0f921"
             ]
            ],
            "type": "contour"
           }
          ],
          "contourcarpet": [
           {
            "colorbar": {
             "outlinewidth": 0,
             "ticks": ""
            },
            "type": "contourcarpet"
           }
          ],
          "heatmap": [
           {
            "colorbar": {
             "outlinewidth": 0,
             "ticks": ""
            },
            "colorscale": [
             [
              0,
              "#0d0887"
             ],
             [
              0.1111111111111111,
              "#46039f"
             ],
             [
              0.2222222222222222,
              "#7201a8"
             ],
             [
              0.3333333333333333,
              "#9c179e"
             ],
             [
              0.4444444444444444,
              "#bd3786"
             ],
             [
              0.5555555555555556,
              "#d8576b"
             ],
             [
              0.6666666666666666,
              "#ed7953"
             ],
             [
              0.7777777777777778,
              "#fb9f3a"
             ],
             [
              0.8888888888888888,
              "#fdca26"
             ],
             [
              1,
              "#f0f921"
             ]
            ],
            "type": "heatmap"
           }
          ],
          "heatmapgl": [
           {
            "colorbar": {
             "outlinewidth": 0,
             "ticks": ""
            },
            "colorscale": [
             [
              0,
              "#0d0887"
             ],
             [
              0.1111111111111111,
              "#46039f"
             ],
             [
              0.2222222222222222,
              "#7201a8"
             ],
             [
              0.3333333333333333,
              "#9c179e"
             ],
             [
              0.4444444444444444,
              "#bd3786"
             ],
             [
              0.5555555555555556,
              "#d8576b"
             ],
             [
              0.6666666666666666,
              "#ed7953"
             ],
             [
              0.7777777777777778,
              "#fb9f3a"
             ],
             [
              0.8888888888888888,
              "#fdca26"
             ],
             [
              1,
              "#f0f921"
             ]
            ],
            "type": "heatmapgl"
           }
          ],
          "histogram": [
           {
            "marker": {
             "pattern": {
              "fillmode": "overlay",
              "size": 10,
              "solidity": 0.2
             }
            },
            "type": "histogram"
           }
          ],
          "histogram2d": [
           {
            "colorbar": {
             "outlinewidth": 0,
             "ticks": ""
            },
            "colorscale": [
             [
              0,
              "#0d0887"
             ],
             [
              0.1111111111111111,
              "#46039f"
             ],
             [
              0.2222222222222222,
              "#7201a8"
             ],
             [
              0.3333333333333333,
              "#9c179e"
             ],
             [
              0.4444444444444444,
              "#bd3786"
             ],
             [
              0.5555555555555556,
              "#d8576b"
             ],
             [
              0.6666666666666666,
              "#ed7953"
             ],
             [
              0.7777777777777778,
              "#fb9f3a"
             ],
             [
              0.8888888888888888,
              "#fdca26"
             ],
             [
              1,
              "#f0f921"
             ]
            ],
            "type": "histogram2d"
           }
          ],
          "histogram2dcontour": [
           {
            "colorbar": {
             "outlinewidth": 0,
             "ticks": ""
            },
            "colorscale": [
             [
              0,
              "#0d0887"
             ],
             [
              0.1111111111111111,
              "#46039f"
             ],
             [
              0.2222222222222222,
              "#7201a8"
             ],
             [
              0.3333333333333333,
              "#9c179e"
             ],
             [
              0.4444444444444444,
              "#bd3786"
             ],
             [
              0.5555555555555556,
              "#d8576b"
             ],
             [
              0.6666666666666666,
              "#ed7953"
             ],
             [
              0.7777777777777778,
              "#fb9f3a"
             ],
             [
              0.8888888888888888,
              "#fdca26"
             ],
             [
              1,
              "#f0f921"
             ]
            ],
            "type": "histogram2dcontour"
           }
          ],
          "mesh3d": [
           {
            "colorbar": {
             "outlinewidth": 0,
             "ticks": ""
            },
            "type": "mesh3d"
           }
          ],
          "parcoords": [
           {
            "line": {
             "colorbar": {
              "outlinewidth": 0,
              "ticks": ""
             }
            },
            "type": "parcoords"
           }
          ],
          "pie": [
           {
            "automargin": true,
            "type": "pie"
           }
          ],
          "scatter": [
           {
            "fillpattern": {
             "fillmode": "overlay",
             "size": 10,
             "solidity": 0.2
            },
            "type": "scatter"
           }
          ],
          "scatter3d": [
           {
            "line": {
             "colorbar": {
              "outlinewidth": 0,
              "ticks": ""
             }
            },
            "marker": {
             "colorbar": {
              "outlinewidth": 0,
              "ticks": ""
             }
            },
            "type": "scatter3d"
           }
          ],
          "scattercarpet": [
           {
            "marker": {
             "colorbar": {
              "outlinewidth": 0,
              "ticks": ""
             }
            },
            "type": "scattercarpet"
           }
          ],
          "scattergeo": [
           {
            "marker": {
             "colorbar": {
              "outlinewidth": 0,
              "ticks": ""
             }
            },
            "type": "scattergeo"
           }
          ],
          "scattergl": [
           {
            "marker": {
             "colorbar": {
              "outlinewidth": 0,
              "ticks": ""
             }
            },
            "type": "scattergl"
           }
          ],
          "scattermapbox": [
           {
            "marker": {
             "colorbar": {
              "outlinewidth": 0,
              "ticks": ""
             }
            },
            "type": "scattermapbox"
           }
          ],
          "scatterpolar": [
           {
            "marker": {
             "colorbar": {
              "outlinewidth": 0,
              "ticks": ""
             }
            },
            "type": "scatterpolar"
           }
          ],
          "scatterpolargl": [
           {
            "marker": {
             "colorbar": {
              "outlinewidth": 0,
              "ticks": ""
             }
            },
            "type": "scatterpolargl"
           }
          ],
          "scatterternary": [
           {
            "marker": {
             "colorbar": {
              "outlinewidth": 0,
              "ticks": ""
             }
            },
            "type": "scatterternary"
           }
          ],
          "surface": [
           {
            "colorbar": {
             "outlinewidth": 0,
             "ticks": ""
            },
            "colorscale": [
             [
              0,
              "#0d0887"
             ],
             [
              0.1111111111111111,
              "#46039f"
             ],
             [
              0.2222222222222222,
              "#7201a8"
             ],
             [
              0.3333333333333333,
              "#9c179e"
             ],
             [
              0.4444444444444444,
              "#bd3786"
             ],
             [
              0.5555555555555556,
              "#d8576b"
             ],
             [
              0.6666666666666666,
              "#ed7953"
             ],
             [
              0.7777777777777778,
              "#fb9f3a"
             ],
             [
              0.8888888888888888,
              "#fdca26"
             ],
             [
              1,
              "#f0f921"
             ]
            ],
            "type": "surface"
           }
          ],
          "table": [
           {
            "cells": {
             "fill": {
              "color": "#EBF0F8"
             },
             "line": {
              "color": "white"
             }
            },
            "header": {
             "fill": {
              "color": "#C8D4E3"
             },
             "line": {
              "color": "white"
             }
            },
            "type": "table"
           }
          ]
         },
         "layout": {
          "annotationdefaults": {
           "arrowcolor": "#2a3f5f",
           "arrowhead": 0,
           "arrowwidth": 1
          },
          "autotypenumbers": "strict",
          "coloraxis": {
           "colorbar": {
            "outlinewidth": 0,
            "ticks": ""
           }
          },
          "colorscale": {
           "diverging": [
            [
             0,
             "#8e0152"
            ],
            [
             0.1,
             "#c51b7d"
            ],
            [
             0.2,
             "#de77ae"
            ],
            [
             0.3,
             "#f1b6da"
            ],
            [
             0.4,
             "#fde0ef"
            ],
            [
             0.5,
             "#f7f7f7"
            ],
            [
             0.6,
             "#e6f5d0"
            ],
            [
             0.7,
             "#b8e186"
            ],
            [
             0.8,
             "#7fbc41"
            ],
            [
             0.9,
             "#4d9221"
            ],
            [
             1,
             "#276419"
            ]
           ],
           "sequential": [
            [
             0,
             "#0d0887"
            ],
            [
             0.1111111111111111,
             "#46039f"
            ],
            [
             0.2222222222222222,
             "#7201a8"
            ],
            [
             0.3333333333333333,
             "#9c179e"
            ],
            [
             0.4444444444444444,
             "#bd3786"
            ],
            [
             0.5555555555555556,
             "#d8576b"
            ],
            [
             0.6666666666666666,
             "#ed7953"
            ],
            [
             0.7777777777777778,
             "#fb9f3a"
            ],
            [
             0.8888888888888888,
             "#fdca26"
            ],
            [
             1,
             "#f0f921"
            ]
           ],
           "sequentialminus": [
            [
             0,
             "#0d0887"
            ],
            [
             0.1111111111111111,
             "#46039f"
            ],
            [
             0.2222222222222222,
             "#7201a8"
            ],
            [
             0.3333333333333333,
             "#9c179e"
            ],
            [
             0.4444444444444444,
             "#bd3786"
            ],
            [
             0.5555555555555556,
             "#d8576b"
            ],
            [
             0.6666666666666666,
             "#ed7953"
            ],
            [
             0.7777777777777778,
             "#fb9f3a"
            ],
            [
             0.8888888888888888,
             "#fdca26"
            ],
            [
             1,
             "#f0f921"
            ]
           ]
          },
          "colorway": [
           "#636efa",
           "#EF553B",
           "#00cc96",
           "#ab63fa",
           "#FFA15A",
           "#19d3f3",
           "#FF6692",
           "#B6E880",
           "#FF97FF",
           "#FECB52"
          ],
          "font": {
           "color": "#2a3f5f"
          },
          "geo": {
           "bgcolor": "white",
           "lakecolor": "white",
           "landcolor": "#E5ECF6",
           "showlakes": true,
           "showland": true,
           "subunitcolor": "white"
          },
          "hoverlabel": {
           "align": "left"
          },
          "hovermode": "closest",
          "mapbox": {
           "style": "light"
          },
          "paper_bgcolor": "white",
          "plot_bgcolor": "#E5ECF6",
          "polar": {
           "angularaxis": {
            "gridcolor": "white",
            "linecolor": "white",
            "ticks": ""
           },
           "bgcolor": "#E5ECF6",
           "radialaxis": {
            "gridcolor": "white",
            "linecolor": "white",
            "ticks": ""
           }
          },
          "scene": {
           "xaxis": {
            "backgroundcolor": "#E5ECF6",
            "gridcolor": "white",
            "gridwidth": 2,
            "linecolor": "white",
            "showbackground": true,
            "ticks": "",
            "zerolinecolor": "white"
           },
           "yaxis": {
            "backgroundcolor": "#E5ECF6",
            "gridcolor": "white",
            "gridwidth": 2,
            "linecolor": "white",
            "showbackground": true,
            "ticks": "",
            "zerolinecolor": "white"
           },
           "zaxis": {
            "backgroundcolor": "#E5ECF6",
            "gridcolor": "white",
            "gridwidth": 2,
            "linecolor": "white",
            "showbackground": true,
            "ticks": "",
            "zerolinecolor": "white"
           }
          },
          "shapedefaults": {
           "line": {
            "color": "#2a3f5f"
           }
          },
          "ternary": {
           "aaxis": {
            "gridcolor": "white",
            "linecolor": "white",
            "ticks": ""
           },
           "baxis": {
            "gridcolor": "white",
            "linecolor": "white",
            "ticks": ""
           },
           "bgcolor": "#E5ECF6",
           "caxis": {
            "gridcolor": "white",
            "linecolor": "white",
            "ticks": ""
           }
          },
          "title": {
           "x": 0.05
          },
          "xaxis": {
           "automargin": true,
           "gridcolor": "white",
           "linecolor": "white",
           "ticks": "",
           "title": {
            "standoff": 15
           },
           "zerolinecolor": "white",
           "zerolinewidth": 2
          },
          "yaxis": {
           "automargin": true,
           "gridcolor": "white",
           "linecolor": "white",
           "ticks": "",
           "title": {
            "standoff": 15
           },
           "zerolinecolor": "white",
           "zerolinewidth": 2
          }
         }
        },
        "title": {
         "text": "Distribucion de pozos No abandonados por Provincia"
        }
       }
      }
     },
     "metadata": {},
     "output_type": "display_data"
    }
   ],
   "source": [
    "# Eliminamos abandonados\n",
    "total_pozos_no_abandonados = pozos_por_provincia.drop(columns=['Abandonado','Totales'])\n",
    "# Sumamos los totales de los pozos en cada provincia\n",
    "totales = total_pozos_no_abandonados.sum(axis=1)\n",
    "\n",
    "# Presentacion, Instancia de Figure\n",
    "fig = go.Figure(\n",
    "    data=[go.Pie(\n",
    "        labels=totales.index,\n",
    "        values=totales,\n",
    "        hoverinfo='label+percent',\n",
    "        textinfo='value+percent',\n",
    "        textfont=dict(size=15),\n",
    "    )]\n",
    ")\n",
    "fig.update_layout(\n",
    "    title='Distribucion de pozos No abandonados por Provincia'\n",
    ")\n",
    "fig.show()"
   ]
  },
  {
   "cell_type": "code",
   "execution_count": 11,
   "metadata": {},
   "outputs": [
    {
     "data": {
      "text/html": [
       "<div>\n",
       "<style scoped>\n",
       "    .dataframe tbody tr th:only-of-type {\n",
       "        vertical-align: middle;\n",
       "    }\n",
       "\n",
       "    .dataframe tbody tr th {\n",
       "        vertical-align: top;\n",
       "    }\n",
       "\n",
       "    .dataframe thead th {\n",
       "        text-align: right;\n",
       "    }\n",
       "</style>\n",
       "<table border=\"1\" class=\"dataframe\">\n",
       "  <thead>\n",
       "    <tr style=\"text-align: right;\">\n",
       "      <th>tipoestado</th>\n",
       "      <th>Totales</th>\n",
       "      <th>A Abandonar</th>\n",
       "      <th>Abandono Temporario</th>\n",
       "      <th>En Espera de Reparación</th>\n",
       "      <th>En Estudio</th>\n",
       "      <th>En Inyección Efectiva</th>\n",
       "      <th>En Reparación</th>\n",
       "      <th>En Reserva de Gas</th>\n",
       "      <th>En Reserva para Recup. Sec./Asist.</th>\n",
       "      <th>Extracción Efectiva</th>\n",
       "      <th>Mantenimiento de Presión</th>\n",
       "      <th>Otras Situación Activo</th>\n",
       "      <th>Otras Situación Inactivo</th>\n",
       "      <th>Parado Alta Relación Agua/Petróleo</th>\n",
       "      <th>Parado Alta Relación Gas/Petróleo</th>\n",
       "      <th>Parado Transitoriamente</th>\n",
       "    </tr>\n",
       "    <tr>\n",
       "      <th>provincia</th>\n",
       "      <th></th>\n",
       "      <th></th>\n",
       "      <th></th>\n",
       "      <th></th>\n",
       "      <th></th>\n",
       "      <th></th>\n",
       "      <th></th>\n",
       "      <th></th>\n",
       "      <th></th>\n",
       "      <th></th>\n",
       "      <th></th>\n",
       "      <th></th>\n",
       "      <th></th>\n",
       "      <th></th>\n",
       "      <th></th>\n",
       "      <th></th>\n",
       "    </tr>\n",
       "  </thead>\n",
       "  <tbody>\n",
       "    <tr>\n",
       "      <th>Chubut</th>\n",
       "      <td>14808</td>\n",
       "      <td>583</td>\n",
       "      <td>57</td>\n",
       "      <td>231</td>\n",
       "      <td>1388</td>\n",
       "      <td>2103</td>\n",
       "      <td>14</td>\n",
       "      <td>72</td>\n",
       "      <td>2678</td>\n",
       "      <td>6666</td>\n",
       "      <td>0</td>\n",
       "      <td>42</td>\n",
       "      <td>109</td>\n",
       "      <td>99</td>\n",
       "      <td>49</td>\n",
       "      <td>717</td>\n",
       "    </tr>\n",
       "    <tr>\n",
       "      <th>La Pampa</th>\n",
       "      <td>2407</td>\n",
       "      <td>14</td>\n",
       "      <td>21</td>\n",
       "      <td>139</td>\n",
       "      <td>155</td>\n",
       "      <td>225</td>\n",
       "      <td>0</td>\n",
       "      <td>3</td>\n",
       "      <td>2</td>\n",
       "      <td>1493</td>\n",
       "      <td>0</td>\n",
       "      <td>0</td>\n",
       "      <td>3</td>\n",
       "      <td>18</td>\n",
       "      <td>3</td>\n",
       "      <td>331</td>\n",
       "    </tr>\n",
       "    <tr>\n",
       "      <th>Mendoza</th>\n",
       "      <td>6682</td>\n",
       "      <td>640</td>\n",
       "      <td>39</td>\n",
       "      <td>277</td>\n",
       "      <td>614</td>\n",
       "      <td>913</td>\n",
       "      <td>1</td>\n",
       "      <td>120</td>\n",
       "      <td>409</td>\n",
       "      <td>2778</td>\n",
       "      <td>3</td>\n",
       "      <td>4</td>\n",
       "      <td>36</td>\n",
       "      <td>385</td>\n",
       "      <td>9</td>\n",
       "      <td>454</td>\n",
       "    </tr>\n",
       "    <tr>\n",
       "      <th>Neuquén</th>\n",
       "      <td>14680</td>\n",
       "      <td>564</td>\n",
       "      <td>51</td>\n",
       "      <td>657</td>\n",
       "      <td>2405</td>\n",
       "      <td>1067</td>\n",
       "      <td>19</td>\n",
       "      <td>187</td>\n",
       "      <td>948</td>\n",
       "      <td>6503</td>\n",
       "      <td>10</td>\n",
       "      <td>151</td>\n",
       "      <td>148</td>\n",
       "      <td>197</td>\n",
       "      <td>15</td>\n",
       "      <td>1758</td>\n",
       "    </tr>\n",
       "    <tr>\n",
       "      <th>Rio Negro</th>\n",
       "      <td>2499</td>\n",
       "      <td>112</td>\n",
       "      <td>28</td>\n",
       "      <td>143</td>\n",
       "      <td>371</td>\n",
       "      <td>265</td>\n",
       "      <td>3</td>\n",
       "      <td>10</td>\n",
       "      <td>80</td>\n",
       "      <td>1052</td>\n",
       "      <td>2</td>\n",
       "      <td>6</td>\n",
       "      <td>51</td>\n",
       "      <td>195</td>\n",
       "      <td>3</td>\n",
       "      <td>178</td>\n",
       "    </tr>\n",
       "    <tr>\n",
       "      <th>Salta</th>\n",
       "      <td>364</td>\n",
       "      <td>72</td>\n",
       "      <td>3</td>\n",
       "      <td>0</td>\n",
       "      <td>88</td>\n",
       "      <td>11</td>\n",
       "      <td>0</td>\n",
       "      <td>0</td>\n",
       "      <td>0</td>\n",
       "      <td>61</td>\n",
       "      <td>10</td>\n",
       "      <td>0</td>\n",
       "      <td>17</td>\n",
       "      <td>1</td>\n",
       "      <td>1</td>\n",
       "      <td>100</td>\n",
       "    </tr>\n",
       "    <tr>\n",
       "      <th>Santa Cruz</th>\n",
       "      <td>18661</td>\n",
       "      <td>739</td>\n",
       "      <td>1181</td>\n",
       "      <td>376</td>\n",
       "      <td>2311</td>\n",
       "      <td>1473</td>\n",
       "      <td>1</td>\n",
       "      <td>118</td>\n",
       "      <td>3469</td>\n",
       "      <td>7399</td>\n",
       "      <td>17</td>\n",
       "      <td>1</td>\n",
       "      <td>417</td>\n",
       "      <td>81</td>\n",
       "      <td>18</td>\n",
       "      <td>1060</td>\n",
       "    </tr>\n",
       "    <tr>\n",
       "      <th>Tierra del Fuego</th>\n",
       "      <td>823</td>\n",
       "      <td>15</td>\n",
       "      <td>12</td>\n",
       "      <td>32</td>\n",
       "      <td>111</td>\n",
       "      <td>24</td>\n",
       "      <td>0</td>\n",
       "      <td>47</td>\n",
       "      <td>211</td>\n",
       "      <td>226</td>\n",
       "      <td>0</td>\n",
       "      <td>1</td>\n",
       "      <td>63</td>\n",
       "      <td>2</td>\n",
       "      <td>2</td>\n",
       "      <td>77</td>\n",
       "    </tr>\n",
       "  </tbody>\n",
       "</table>\n",
       "</div>"
      ],
      "text/plain": [
       "tipoestado        Totales  A Abandonar  Abandono Temporario  \\\n",
       "provincia                                                     \n",
       "Chubut              14808          583                   57   \n",
       "La Pampa             2407           14                   21   \n",
       "Mendoza              6682          640                   39   \n",
       "Neuquén             14680          564                   51   \n",
       "Rio Negro            2499          112                   28   \n",
       "Salta                 364           72                    3   \n",
       "Santa Cruz          18661          739                 1181   \n",
       "Tierra del Fuego      823           15                   12   \n",
       "\n",
       "tipoestado        En Espera de Reparación  En Estudio  En Inyección Efectiva  \\\n",
       "provincia                                                                      \n",
       "Chubut                                231        1388                   2103   \n",
       "La Pampa                              139         155                    225   \n",
       "Mendoza                               277         614                    913   \n",
       "Neuquén                               657        2405                   1067   \n",
       "Rio Negro                             143         371                    265   \n",
       "Salta                                   0          88                     11   \n",
       "Santa Cruz                            376        2311                   1473   \n",
       "Tierra del Fuego                       32         111                     24   \n",
       "\n",
       "tipoestado        En Reparación  En Reserva de Gas  \\\n",
       "provincia                                            \n",
       "Chubut                       14                 72   \n",
       "La Pampa                      0                  3   \n",
       "Mendoza                       1                120   \n",
       "Neuquén                      19                187   \n",
       "Rio Negro                     3                 10   \n",
       "Salta                         0                  0   \n",
       "Santa Cruz                    1                118   \n",
       "Tierra del Fuego              0                 47   \n",
       "\n",
       "tipoestado        En Reserva para Recup. Sec./Asist.  Extracción Efectiva  \\\n",
       "provincia                                                                   \n",
       "Chubut                                          2678                 6666   \n",
       "La Pampa                                           2                 1493   \n",
       "Mendoza                                          409                 2778   \n",
       "Neuquén                                          948                 6503   \n",
       "Rio Negro                                         80                 1052   \n",
       "Salta                                              0                   61   \n",
       "Santa Cruz                                      3469                 7399   \n",
       "Tierra del Fuego                                 211                  226   \n",
       "\n",
       "tipoestado        Mantenimiento de Presión  Otras Situación Activo  \\\n",
       "provincia                                                            \n",
       "Chubut                                   0                      42   \n",
       "La Pampa                                 0                       0   \n",
       "Mendoza                                  3                       4   \n",
       "Neuquén                                 10                     151   \n",
       "Rio Negro                                2                       6   \n",
       "Salta                                   10                       0   \n",
       "Santa Cruz                              17                       1   \n",
       "Tierra del Fuego                         0                       1   \n",
       "\n",
       "tipoestado        Otras Situación Inactivo  \\\n",
       "provincia                                    \n",
       "Chubut                                 109   \n",
       "La Pampa                                 3   \n",
       "Mendoza                                 36   \n",
       "Neuquén                                148   \n",
       "Rio Negro                               51   \n",
       "Salta                                   17   \n",
       "Santa Cruz                             417   \n",
       "Tierra del Fuego                        63   \n",
       "\n",
       "tipoestado        Parado Alta Relación Agua/Petróleo  \\\n",
       "provincia                                              \n",
       "Chubut                                            99   \n",
       "La Pampa                                          18   \n",
       "Mendoza                                          385   \n",
       "Neuquén                                          197   \n",
       "Rio Negro                                        195   \n",
       "Salta                                              1   \n",
       "Santa Cruz                                        81   \n",
       "Tierra del Fuego                                   2   \n",
       "\n",
       "tipoestado        Parado Alta Relación Gas/Petróleo  Parado Transitoriamente  \n",
       "provincia                                                                     \n",
       "Chubut                                           49                      717  \n",
       "La Pampa                                          3                      331  \n",
       "Mendoza                                           9                      454  \n",
       "Neuquén                                          15                     1758  \n",
       "Rio Negro                                         3                      178  \n",
       "Salta                                             1                      100  \n",
       "Santa Cruz                                       18                     1060  \n",
       "Tierra del Fuego                                  2                       77  "
      ]
     },
     "execution_count": 11,
     "metadata": {},
     "output_type": "execute_result"
    }
   ],
   "source": [
    "totales\n",
    "# Cuadro de los pozos totales por provincia\n",
    "total_pozos_no_abandonados.insert(0, 'Totales', totales)\n",
    "total_pozos_no_abandonados"
   ]
  },
  {
   "cell_type": "markdown",
   "metadata": {},
   "source": [
    "Los ***Pozos activos*** por provincia "
   ]
  },
  {
   "cell_type": "code",
   "execution_count": 12,
   "metadata": {},
   "outputs": [
    {
     "data": {
      "image/png": "[encoded data removed]",
      "text/plain": [
       "<Figure size 1000x400 with 1 Axes>"
      ]
     },
     "metadata": {},
     "output_type": "display_data"
    }
   ],
   "source": [
    "#Cantidad pozos activos por provincia \n",
    "from matplotlib.ticker import NullFormatter\n",
    "# data\n",
    "x = activos['provincia'].unique()\n",
    "y = activos['provincia'].value_counts()\n",
    "\n",
    "# Creacion grafico\n",
    "fig, ax = plt.subplots(figsize=(10,4))\n",
    "bars = ax.bar(x,y, color='skyblue')\n",
    "# Grafico logarítmico \n",
    "ax.set_yscale('log')\n",
    "ax.yaxis.set_major_formatter(NullFormatter())\n",
    "ax.grid()\n",
    "# agregado del valor entero de cada provincia\n",
    "for bar in bars:\n",
    "    yval = bar.get_height()\n",
    "    ax.text(bar.get_x() + bar.get_width()/2, yval,int(yval))\n",
    "# Arreglos\n",
    "plt.xticks(rotation=45)\n",
    "plt.title('Pozos activos por provincia')\n",
    "plt.show()"
   ]
  },
  {
   "cell_type": "markdown",
   "metadata": {},
   "source": [
    "#### Produccion petroleo, gas, agua por provincia"
   ]
  },
  {
   "cell_type": "code",
   "execution_count": 13,
   "metadata": {},
   "outputs": [
    {
     "data": {
      "application/vnd.plotly.v1+json": {
       "config": {
        "plotlyServerURL": "https://plot.ly"
       },
       "data": [
        {
         "name": "prod_pet",
         "type": "bar",
         "x": [
          "Chubut",
          "La Pampa",
          "Mendoza",
          "Neuquén",
          "Rio Negro",
          "Salta",
          "Santa Cruz",
          "Tierra del Fuego"
         ],
         "y": [
          646712.91,
          63096.85,
          265666.36,
          1895646.05,
          67612.97,
          13935.14,
          336170.11,
          18078.05
         ]
        },
        {
         "name": "prod_gas",
         "type": "bar",
         "x": [
          "Chubut",
          "La Pampa",
          "Mendoza",
          "Neuquén",
          "Rio Negro",
          "Salta",
          "Santa Cruz",
          "Tierra del Fuego"
         ],
         "y": [
          222751.8,
          19517.73,
          46047.14,
          2716963.23,
          88418.7,
          104562.31,
          279960.61,
          128747.37
         ]
        },
        {
         "name": "prod_agua",
         "type": "bar",
         "x": [
          "Chubut",
          "La Pampa",
          "Mendoza",
          "Neuquén",
          "Rio Negro",
          "Salta",
          "Santa Cruz",
          "Tierra del Fuego"
         ],
         "y": [
          12802939.6,
          545182.35,
          3994667.49,
          4452715.23,
          1161706.39,
          43624.53,
          5241769.64,
          126418.76
         ]
        }
       ],
       "layout": {
        "barmode": "stack",
        "legend": {
         "title": {
          "text": "Tipo de Producción"
         }
        },
        "template": {
         "data": {
          "bar": [
           {
            "error_x": {
             "color": "#2a3f5f"
            },
            "error_y": {
             "color": "#2a3f5f"
            },
            "marker": {
             "line": {
              "color": "#E5ECF6",
              "width": 0.5
             },
             "pattern": {
              "fillmode": "overlay",
              "size": 10,
              "solidity": 0.2
             }
            },
            "type": "bar"
           }
          ],
          "barpolar": [
           {
            "marker": {
             "line": {
              "color": "#E5ECF6",
              "width": 0.5
             },
             "pattern": {
              "fillmode": "overlay",
              "size": 10,
              "solidity": 0.2
             }
            },
            "type": "barpolar"
           }
          ],
          "carpet": [
           {
            "aaxis": {
             "endlinecolor": "#2a3f5f",
             "gridcolor": "white",
             "linecolor": "white",
             "minorgridcolor": "white",
             "startlinecolor": "#2a3f5f"
            },
            "baxis": {
             "endlinecolor": "#2a3f5f",
             "gridcolor": "white",
             "linecolor": "white",
             "minorgridcolor": "white",
             "startlinecolor": "#2a3f5f"
            },
            "type": "carpet"
           }
          ],
          "choropleth": [
           {
            "colorbar": {
             "outlinewidth": 0,
             "ticks": ""
            },
            "type": "choropleth"
           }
          ],
          "contour": [
           {
            "colorbar": {
             "outlinewidth": 0,
             "ticks": ""
            },
            "colorscale": [
             [
              0,
              "#0d0887"
             ],
             [
              0.1111111111111111,
              "#46039f"
             ],
             [
              0.2222222222222222,
              "#7201a8"
             ],
             [
              0.3333333333333333,
              "#9c179e"
             ],
             [
              0.4444444444444444,
              "#bd3786"
             ],
             [
              0.5555555555555556,
              "#d8576b"
             ],
             [
              0.6666666666666666,
              "#ed7953"
             ],
             [
              0.7777777777777778,
              "#fb9f3a"
             ],
             [
              0.8888888888888888,
              "#fdca26"
             ],
             [
              1,
              "#f0f921"
             ]
            ],
            "type": "contour"
           }
          ],
          "contourcarpet": [
           {
            "colorbar": {
             "outlinewidth": 0,
             "ticks": ""
            },
            "type": "contourcarpet"
           }
          ],
          "heatmap": [
           {
            "colorbar": {
             "outlinewidth": 0,
             "ticks": ""
            },
            "colorscale": [
             [
              0,
              "#0d0887"
             ],
             [
              0.1111111111111111,
              "#46039f"
             ],
             [
              0.2222222222222222,
              "#7201a8"
             ],
             [
              0.3333333333333333,
              "#9c179e"
             ],
             [
              0.4444444444444444,
              "#bd3786"
             ],
             [
              0.5555555555555556,
              "#d8576b"
             ],
             [
              0.6666666666666666,
              "#ed7953"
             ],
             [
              0.7777777777777778,
              "#fb9f3a"
             ],
             [
              0.8888888888888888,
              "#fdca26"
             ],
             [
              1,
              "#f0f921"
             ]
            ],
            "type": "heatmap"
           }
          ],
          "heatmapgl": [
           {
            "colorbar": {
             "outlinewidth": 0,
             "ticks": ""
            },
            "colorscale": [
             [
              0,
              "#0d0887"
             ],
             [
              0.1111111111111111,
              "#46039f"
             ],
             [
              0.2222222222222222,
              "#7201a8"
             ],
             [
              0.3333333333333333,
              "#9c179e"
             ],
             [
              0.4444444444444444,
              "#bd3786"
             ],
             [
              0.5555555555555556,
              "#d8576b"
             ],
             [
              0.6666666666666666,
              "#ed7953"
             ],
             [
              0.7777777777777778,
              "#fb9f3a"
             ],
             [
              0.8888888888888888,
              "#fdca26"
             ],
             [
              1,
              "#f0f921"
             ]
            ],
            "type": "heatmapgl"
           }
          ],
          "histogram": [
           {
            "marker": {
             "pattern": {
              "fillmode": "overlay",
              "size": 10,
              "solidity": 0.2
             }
            },
            "type": "histogram"
           }
          ],
          "histogram2d": [
           {
            "colorbar": {
             "outlinewidth": 0,
             "ticks": ""
            },
            "colorscale": [
             [
              0,
              "#0d0887"
             ],
             [
              0.1111111111111111,
              "#46039f"
             ],
             [
              0.2222222222222222,
              "#7201a8"
             ],
             [
              0.3333333333333333,
              "#9c179e"
             ],
             [
              0.4444444444444444,
              "#bd3786"
             ],
             [
              0.5555555555555556,
              "#d8576b"
             ],
             [
              0.6666666666666666,
              "#ed7953"
             ],
             [
              0.7777777777777778,
              "#fb9f3a"
             ],
             [
              0.8888888888888888,
              "#fdca26"
             ],
             [
              1,
              "#f0f921"
             ]
            ],
            "type": "histogram2d"
           }
          ],
          "histogram2dcontour": [
           {
            "colorbar": {
             "outlinewidth": 0,
             "ticks": ""
            },
            "colorscale": [
             [
              0,
              "#0d0887"
             ],
             [
              0.1111111111111111,
              "#46039f"
             ],
             [
              0.2222222222222222,
              "#7201a8"
             ],
             [
              0.3333333333333333,
              "#9c179e"
             ],
             [
              0.4444444444444444,
              "#bd3786"
             ],
             [
              0.5555555555555556,
              "#d8576b"
             ],
             [
              0.6666666666666666,
              "#ed7953"
             ],
             [
              0.7777777777777778,
              "#fb9f3a"
             ],
             [
              0.8888888888888888,
              "#fdca26"
             ],
             [
              1,
              "#f0f921"
             ]
            ],
            "type": "histogram2dcontour"
           }
          ],
          "mesh3d": [
           {
            "colorbar": {
             "outlinewidth": 0,
             "ticks": ""
            },
            "type": "mesh3d"
           }
          ],
          "parcoords": [
           {
            "line": {
             "colorbar": {
              "outlinewidth": 0,
              "ticks": ""
             }
            },
            "type": "parcoords"
           }
          ],
          "pie": [
           {
            "automargin": true,
            "type": "pie"
           }
          ],
          "scatter": [
           {
            "fillpattern": {
             "fillmode": "overlay",
             "size": 10,
             "solidity": 0.2
            },
            "type": "scatter"
           }
          ],
          "scatter3d": [
           {
            "line": {
             "colorbar": {
              "outlinewidth": 0,
              "ticks": ""
             }
            },
            "marker": {
             "colorbar": {
              "outlinewidth": 0,
              "ticks": ""
             }
            },
            "type": "scatter3d"
           }
          ],
          "scattercarpet": [
           {
            "marker": {
             "colorbar": {
              "outlinewidth": 0,
              "ticks": ""
             }
            },
            "type": "scattercarpet"
           }
          ],
          "scattergeo": [
           {
            "marker": {
             "colorbar": {
              "outlinewidth": 0,
              "ticks": ""
             }
            },
            "type": "scattergeo"
           }
          ],
          "scattergl": [
           {
            "marker": {
             "colorbar": {
              "outlinewidth": 0,
              "ticks": ""
             }
            },
            "type": "scattergl"
           }
          ],
          "scattermapbox": [
           {
            "marker": {
             "colorbar": {
              "outlinewidth": 0,
              "ticks": ""
             }
            },
            "type": "scattermapbox"
           }
          ],
          "scatterpolar": [
           {
            "marker": {
             "colorbar": {
              "outlinewidth": 0,
              "ticks": ""
             }
            },
            "type": "scatterpolar"
           }
          ],
          "scatterpolargl": [
           {
            "marker": {
             "colorbar": {
              "outlinewidth": 0,
              "ticks": ""
             }
            },
            "type": "scatterpolargl"
           }
          ],
          "scatterternary": [
           {
            "marker": {
             "colorbar": {
              "outlinewidth": 0,
              "ticks": ""
             }
            },
            "type": "scatterternary"
           }
          ],
          "surface": [
           {
            "colorbar": {
             "outlinewidth": 0,
             "ticks": ""
            },
            "colorscale": [
             [
              0,
              "#0d0887"
             ],
             [
              0.1111111111111111,
              "#46039f"
             ],
             [
              0.2222222222222222,
              "#7201a8"
             ],
             [
              0.3333333333333333,
              "#9c179e"
             ],
             [
              0.4444444444444444,
              "#bd3786"
             ],
             [
              0.5555555555555556,
              "#d8576b"
             ],
             [
              0.6666666666666666,
              "#ed7953"
             ],
             [
              0.7777777777777778,
              "#fb9f3a"
             ],
             [
              0.8888888888888888,
              "#fdca26"
             ],
             [
              1,
              "#f0f921"
             ]
            ],
            "type": "surface"
           }
          ],
          "table": [
           {
            "cells": {
             "fill": {
              "color": "#EBF0F8"
             },
             "line": {
              "color": "white"
             }
            },
            "header": {
             "fill": {
              "color": "#C8D4E3"
             },
             "line": {
              "color": "white"
             }
            },
            "type": "table"
           }
          ]
         },
         "layout": {
          "annotationdefaults": {
           "arrowcolor": "#2a3f5f",
           "arrowhead": 0,
           "arrowwidth": 1
          },
          "autotypenumbers": "strict",
          "coloraxis": {
           "colorbar": {
            "outlinewidth": 0,
            "ticks": ""
           }
          },
          "colorscale": {
           "diverging": [
            [
             0,
             "#8e0152"
            ],
            [
             0.1,
             "#c51b7d"
            ],
            [
             0.2,
             "#de77ae"
            ],
            [
             0.3,
             "#f1b6da"
            ],
            [
             0.4,
             "#fde0ef"
            ],
            [
             0.5,
             "#f7f7f7"
            ],
            [
             0.6,
             "#e6f5d0"
            ],
            [
             0.7,
             "#b8e186"
            ],
            [
             0.8,
             "#7fbc41"
            ],
            [
             0.9,
             "#4d9221"
            ],
            [
             1,
             "#276419"
            ]
           ],
           "sequential": [
            [
             0,
             "#0d0887"
            ],
            [
             0.1111111111111111,
             "#46039f"
            ],
            [
             0.2222222222222222,
             "#7201a8"
            ],
            [
             0.3333333333333333,
             "#9c179e"
            ],
            [
             0.4444444444444444,
             "#bd3786"
            ],
            [
             0.5555555555555556,
             "#d8576b"
            ],
            [
             0.6666666666666666,
             "#ed7953"
            ],
            [
             0.7777777777777778,
             "#fb9f3a"
            ],
            [
             0.8888888888888888,
             "#fdca26"
            ],
            [
             1,
             "#f0f921"
            ]
           ],
           "sequentialminus": [
            [
             0,
             "#0d0887"
            ],
            [
             0.1111111111111111,
             "#46039f"
            ],
            [
             0.2222222222222222,
             "#7201a8"
            ],
            [
             0.3333333333333333,
             "#9c179e"
            ],
            [
             0.4444444444444444,
             "#bd3786"
            ],
            [
             0.5555555555555556,
             "#d8576b"
            ],
            [
             0.6666666666666666,
             "#ed7953"
            ],
            [
             0.7777777777777778,
             "#fb9f3a"
            ],
            [
             0.8888888888888888,
             "#fdca26"
            ],
            [
             1,
             "#f0f921"
            ]
           ]
          },
          "colorway": [
           "#636efa",
           "#EF553B",
           "#00cc96",
           "#ab63fa",
           "#FFA15A",
           "#19d3f3",
           "#FF6692",
           "#B6E880",
           "#FF97FF",
           "#FECB52"
          ],
          "font": {
           "color": "#2a3f5f"
          },
          "geo": {
           "bgcolor": "white",
           "lakecolor": "white",
           "landcolor": "#E5ECF6",
           "showlakes": true,
           "showland": true,
           "subunitcolor": "white"
          },
          "hoverlabel": {
           "align": "left"
          },
          "hovermode": "closest",
          "mapbox": {
           "style": "light"
          },
          "paper_bgcolor": "white",
          "plot_bgcolor": "#E5ECF6",
          "polar": {
           "angularaxis": {
            "gridcolor": "white",
            "linecolor": "white",
            "ticks": ""
           },
           "bgcolor": "#E5ECF6",
           "radialaxis": {
            "gridcolor": "white",
            "linecolor": "white",
            "ticks": ""
           }
          },
          "scene": {
           "xaxis": {
            "backgroundcolor": "#E5ECF6",
            "gridcolor": "white",
            "gridwidth": 2,
            "linecolor": "white",
            "showbackground": true,
            "ticks": "",
            "zerolinecolor": "white"
           },
           "yaxis": {
            "backgroundcolor": "#E5ECF6",
            "gridcolor": "white",
            "gridwidth": 2,
            "linecolor": "white",
            "showbackground": true,
            "ticks": "",
            "zerolinecolor": "white"
           },
           "zaxis": {
            "backgroundcolor": "#E5ECF6",
            "gridcolor": "white",
            "gridwidth": 2,
            "linecolor": "white",
            "showbackground": true,
            "ticks": "",
            "zerolinecolor": "white"
           }
          },
          "shapedefaults": {
           "line": {
            "color": "#2a3f5f"
           }
          },
          "ternary": {
           "aaxis": {
            "gridcolor": "white",
            "linecolor": "white",
            "ticks": ""
           },
           "baxis": {
            "gridcolor": "white",
            "linecolor": "white",
            "ticks": ""
           },
           "bgcolor": "#E5ECF6",
           "caxis": {
            "gridcolor": "white",
            "linecolor": "white",
            "ticks": ""
           }
          },
          "title": {
           "x": 0.05
          },
          "xaxis": {
           "automargin": true,
           "gridcolor": "white",
           "linecolor": "white",
           "ticks": "",
           "title": {
            "standoff": 15
           },
           "zerolinecolor": "white",
           "zerolinewidth": 2
          },
          "yaxis": {
           "automargin": true,
           "gridcolor": "white",
           "linecolor": "white",
           "ticks": "",
           "title": {
            "standoff": 15
           },
           "zerolinecolor": "white",
           "zerolinewidth": 2
          }
         }
        },
        "title": {
         "text": "Producción por Provincia"
        },
        "xaxis": {
         "title": {
          "text": "Provincia"
         }
        },
        "yaxis": {
         "title": {
          "text": "Producción"
         }
        }
       }
      }
     },
     "metadata": {},
     "output_type": "display_data"
    }
   ],
   "source": [
    "# Dataframe\n",
    "prod_prov = activos.groupby('provincia')[['prod_pet','prod_gas','prod_agua']].sum().round(2)\n",
    "prod_prov\n",
    "# Instancia de la figura\n",
    "fig = go.Figure()\n",
    "# Creacion de los trazos\n",
    "for column in prod_prov.columns:\n",
    "    fig.add_trace(go.Bar(\n",
    "        x=prod_prov.index,\n",
    "        y=prod_prov[column],\n",
    "        name=column\n",
    "    ))\n",
    "fig.update_layout(\n",
    "    barmode='stack',\n",
    "    title='Producción por Provincia',\n",
    "    xaxis_title='Provincia',\n",
    "    yaxis_title='Producción',\n",
    "    legend_title='Tipo de Producción',\n",
    ")\n",
    "# Mostrar el gráfico\n",
    "fig.show()"
   ]
  },
  {
   "cell_type": "markdown",
   "metadata": {},
   "source": [
    "Inyeccion de agua, co2, gas por provincia"
   ]
  },
  {
   "cell_type": "code",
   "execution_count": 14,
   "metadata": {},
   "outputs": [
    {
     "data": {
      "application/vnd.plotly.v1+json": {
       "config": {
        "plotlyServerURL": "https://plot.ly"
       },
       "data": [
        {
         "name": "iny_agua",
         "type": "bar",
         "x": [
          "Chubut",
          "La Pampa",
          "Mendoza",
          "Neuquén",
          "Rio Negro",
          "Salta",
          "Santa Cruz",
          "Tierra del Fuego"
         ],
         "y": [
          12784603.51,
          598766.56,
          4159222.36,
          4684984.85,
          1293491.67,
          33173.86,
          5302876.89,
          118585.45
         ]
        },
        {
         "name": "iny_gas",
         "type": "bar",
         "x": [
          "Chubut",
          "La Pampa",
          "Mendoza",
          "Neuquén",
          "Rio Negro",
          "Salta",
          "Santa Cruz",
          "Tierra del Fuego"
         ],
         "y": [
          0,
          0,
          0,
          2632.53,
          0,
          0,
          0,
          0
         ]
        },
        {
         "name": "iny_otro",
         "type": "bar",
         "x": [
          "Chubut",
          "La Pampa",
          "Mendoza",
          "Neuquén",
          "Rio Negro",
          "Salta",
          "Santa Cruz",
          "Tierra del Fuego"
         ],
         "y": [
          0,
          0,
          0,
          30630.09,
          0,
          1661.92,
          0,
          0
         ]
        }
       ],
       "layout": {
        "barmode": "stack",
        "legend": {
         "title": {
          "text": "Tipo de Inyección"
         }
        },
        "template": {
         "data": {
          "bar": [
           {
            "error_x": {
             "color": "#2a3f5f"
            },
            "error_y": {
             "color": "#2a3f5f"
            },
            "marker": {
             "line": {
              "color": "#E5ECF6",
              "width": 0.5
             },
             "pattern": {
              "fillmode": "overlay",
              "size": 10,
              "solidity": 0.2
             }
            },
            "type": "bar"
           }
          ],
          "barpolar": [
           {
            "marker": {
             "line": {
              "color": "#E5ECF6",
              "width": 0.5
             },
             "pattern": {
              "fillmode": "overlay",
              "size": 10,
              "solidity": 0.2
             }
            },
            "type": "barpolar"
           }
          ],
          "carpet": [
           {
            "aaxis": {
             "endlinecolor": "#2a3f5f",
             "gridcolor": "white",
             "linecolor": "white",
             "minorgridcolor": "white",
             "startlinecolor": "#2a3f5f"
            },
            "baxis": {
             "endlinecolor": "#2a3f5f",
             "gridcolor": "white",
             "linecolor": "white",
             "minorgridcolor": "white",
             "startlinecolor": "#2a3f5f"
            },
            "type": "carpet"
           }
          ],
          "choropleth": [
           {
            "colorbar": {
             "outlinewidth": 0,
             "ticks": ""
            },
            "type": "choropleth"
           }
          ],
          "contour": [
           {
            "colorbar": {
             "outlinewidth": 0,
             "ticks": ""
            },
            "colorscale": [
             [
              0,
              "#0d0887"
             ],
             [
              0.1111111111111111,
              "#46039f"
             ],
             [
              0.2222222222222222,
              "#7201a8"
             ],
             [
              0.3333333333333333,
              "#9c179e"
             ],
             [
              0.4444444444444444,
              "#bd3786"
             ],
             [
              0.5555555555555556,
              "#d8576b"
             ],
             [
              0.6666666666666666,
              "#ed7953"
             ],
             [
              0.7777777777777778,
              "#fb9f3a"
             ],
             [
              0.8888888888888888,
              "#fdca26"
             ],
             [
              1,
              "#f0f921"
             ]
            ],
            "type": "contour"
           }
          ],
          "contourcarpet": [
           {
            "colorbar": {
             "outlinewidth": 0,
             "ticks": ""
            },
            "type": "contourcarpet"
           }
          ],
          "heatmap": [
           {
            "colorbar": {
             "outlinewidth": 0,
             "ticks": ""
            },
            "colorscale": [
             [
              0,
              "#0d0887"
             ],
             [
              0.1111111111111111,
              "#46039f"
             ],
             [
              0.2222222222222222,
              "#7201a8"
             ],
             [
              0.3333333333333333,
              "#9c179e"
             ],
             [
              0.4444444444444444,
              "#bd3786"
             ],
             [
              0.5555555555555556,
              "#d8576b"
             ],
             [
              0.6666666666666666,
              "#ed7953"
             ],
             [
              0.7777777777777778,
              "#fb9f3a"
             ],
             [
              0.8888888888888888,
              "#fdca26"
             ],
             [
              1,
              "#f0f921"
             ]
            ],
            "type": "heatmap"
           }
          ],
          "heatmapgl": [
           {
            "colorbar": {
             "outlinewidth": 0,
             "ticks": ""
            },
            "colorscale": [
             [
              0,
              "#0d0887"
             ],
             [
              0.1111111111111111,
              "#46039f"
             ],
             [
              0.2222222222222222,
              "#7201a8"
             ],
             [
              0.3333333333333333,
              "#9c179e"
             ],
             [
              0.4444444444444444,
              "#bd3786"
             ],
             [
              0.5555555555555556,
              "#d8576b"
             ],
             [
              0.6666666666666666,
              "#ed7953"
             ],
             [
              0.7777777777777778,
              "#fb9f3a"
             ],
             [
              0.8888888888888888,
              "#fdca26"
             ],
             [
              1,
              "#f0f921"
             ]
            ],
            "type": "heatmapgl"
           }
          ],
          "histogram": [
           {
            "marker": {
             "pattern": {
              "fillmode": "overlay",
              "size": 10,
              "solidity": 0.2
             }
            },
            "type": "histogram"
           }
          ],
          "histogram2d": [
           {
            "colorbar": {
             "outlinewidth": 0,
             "ticks": ""
            },
            "colorscale": [
             [
              0,
              "#0d0887"
             ],
             [
              0.1111111111111111,
              "#46039f"
             ],
             [
              0.2222222222222222,
              "#7201a8"
             ],
             [
              0.3333333333333333,
              "#9c179e"
             ],
             [
              0.4444444444444444,
              "#bd3786"
             ],
             [
              0.5555555555555556,
              "#d8576b"
             ],
             [
              0.6666666666666666,
              "#ed7953"
             ],
             [
              0.7777777777777778,
              "#fb9f3a"
             ],
             [
              0.8888888888888888,
              "#fdca26"
             ],
             [
              1,
              "#f0f921"
             ]
            ],
            "type": "histogram2d"
           }
          ],
          "histogram2dcontour": [
           {
            "colorbar": {
             "outlinewidth": 0,
             "ticks": ""
            },
            "colorscale": [
             [
              0,
              "#0d0887"
             ],
             [
              0.1111111111111111,
              "#46039f"
             ],
             [
              0.2222222222222222,
              "#7201a8"
             ],
             [
              0.3333333333333333,
              "#9c179e"
             ],
             [
              0.4444444444444444,
              "#bd3786"
             ],
             [
              0.5555555555555556,
              "#d8576b"
             ],
             [
              0.6666666666666666,
              "#ed7953"
             ],
             [
              0.7777777777777778,
              "#fb9f3a"
             ],
             [
              0.8888888888888888,
              "#fdca26"
             ],
             [
              1,
              "#f0f921"
             ]
            ],
            "type": "histogram2dcontour"
           }
          ],
          "mesh3d": [
           {
            "colorbar": {
             "outlinewidth": 0,
             "ticks": ""
            },
            "type": "mesh3d"
           }
          ],
          "parcoords": [
           {
            "line": {
             "colorbar": {
              "outlinewidth": 0,
              "ticks": ""
             }
            },
            "type": "parcoords"
           }
          ],
          "pie": [
           {
            "automargin": true,
            "type": "pie"
           }
          ],
          "scatter": [
           {
            "fillpattern": {
             "fillmode": "overlay",
             "size": 10,
             "solidity": 0.2
            },
            "type": "scatter"
           }
          ],
          "scatter3d": [
           {
            "line": {
             "colorbar": {
              "outlinewidth": 0,
              "ticks": ""
             }
            },
            "marker": {
             "colorbar": {
              "outlinewidth": 0,
              "ticks": ""
             }
            },
            "type": "scatter3d"
           }
          ],
          "scattercarpet": [
           {
            "marker": {
             "colorbar": {
              "outlinewidth": 0,
              "ticks": ""
             }
            },
            "type": "scattercarpet"
           }
          ],
          "scattergeo": [
           {
            "marker": {
             "colorbar": {
              "outlinewidth": 0,
              "ticks": ""
             }
            },
            "type": "scattergeo"
           }
          ],
          "scattergl": [
           {
            "marker": {
             "colorbar": {
              "outlinewidth": 0,
              "ticks": ""
             }
            },
            "type": "scattergl"
           }
          ],
          "scattermapbox": [
           {
            "marker": {
             "colorbar": {
              "outlinewidth": 0,
              "ticks": ""
             }
            },
            "type": "scattermapbox"
           }
          ],
          "scatterpolar": [
           {
            "marker": {
             "colorbar": {
              "outlinewidth": 0,
              "ticks": ""
             }
            },
            "type": "scatterpolar"
           }
          ],
          "scatterpolargl": [
           {
            "marker": {
             "colorbar": {
              "outlinewidth": 0,
              "ticks": ""
             }
            },
            "type": "scatterpolargl"
           }
          ],
          "scatterternary": [
           {
            "marker": {
             "colorbar": {
              "outlinewidth": 0,
              "ticks": ""
             }
            },
            "type": "scatterternary"
           }
          ],
          "surface": [
           {
            "colorbar": {
             "outlinewidth": 0,
             "ticks": ""
            },
            "colorscale": [
             [
              0,
              "#0d0887"
             ],
             [
              0.1111111111111111,
              "#46039f"
             ],
             [
              0.2222222222222222,
              "#7201a8"
             ],
             [
              0.3333333333333333,
              "#9c179e"
             ],
             [
              0.4444444444444444,
              "#bd3786"
             ],
             [
              0.5555555555555556,
              "#d8576b"
             ],
             [
              0.6666666666666666,
              "#ed7953"
             ],
             [
              0.7777777777777778,
              "#fb9f3a"
             ],
             [
              0.8888888888888888,
              "#fdca26"
             ],
             [
              1,
              "#f0f921"
             ]
            ],
            "type": "surface"
           }
          ],
          "table": [
           {
            "cells": {
             "fill": {
              "color": "#EBF0F8"
             },
             "line": {
              "color": "white"
             }
            },
            "header": {
             "fill": {
              "color": "#C8D4E3"
             },
             "line": {
              "color": "white"
             }
            },
            "type": "table"
           }
          ]
         },
         "layout": {
          "annotationdefaults": {
           "arrowcolor": "#2a3f5f",
           "arrowhead": 0,
           "arrowwidth": 1
          },
          "autotypenumbers": "strict",
          "coloraxis": {
           "colorbar": {
            "outlinewidth": 0,
            "ticks": ""
           }
          },
          "colorscale": {
           "diverging": [
            [
             0,
             "#8e0152"
            ],
            [
             0.1,
             "#c51b7d"
            ],
            [
             0.2,
             "#de77ae"
            ],
            [
             0.3,
             "#f1b6da"
            ],
            [
             0.4,
             "#fde0ef"
            ],
            [
             0.5,
             "#f7f7f7"
            ],
            [
             0.6,
             "#e6f5d0"
            ],
            [
             0.7,
             "#b8e186"
            ],
            [
             0.8,
             "#7fbc41"
            ],
            [
             0.9,
             "#4d9221"
            ],
            [
             1,
             "#276419"
            ]
           ],
           "sequential": [
            [
             0,
             "#0d0887"
            ],
            [
             0.1111111111111111,
             "#46039f"
            ],
            [
             0.2222222222222222,
             "#7201a8"
            ],
            [
             0.3333333333333333,
             "#9c179e"
            ],
            [
             0.4444444444444444,
             "#bd3786"
            ],
            [
             0.5555555555555556,
             "#d8576b"
            ],
            [
             0.6666666666666666,
             "#ed7953"
            ],
            [
             0.7777777777777778,
             "#fb9f3a"
            ],
            [
             0.8888888888888888,
             "#fdca26"
            ],
            [
             1,
             "#f0f921"
            ]
           ],
           "sequentialminus": [
            [
             0,
             "#0d0887"
            ],
            [
             0.1111111111111111,
             "#46039f"
            ],
            [
             0.2222222222222222,
             "#7201a8"
            ],
            [
             0.3333333333333333,
             "#9c179e"
            ],
            [
             0.4444444444444444,
             "#bd3786"
            ],
            [
             0.5555555555555556,
             "#d8576b"
            ],
            [
             0.6666666666666666,
             "#ed7953"
            ],
            [
             0.7777777777777778,
             "#fb9f3a"
            ],
            [
             0.8888888888888888,
             "#fdca26"
            ],
            [
             1,
             "#f0f921"
            ]
           ]
          },
          "colorway": [
           "#636efa",
           "#EF553B",
           "#00cc96",
           "#ab63fa",
           "#FFA15A",
           "#19d3f3",
           "#FF6692",
           "#B6E880",
           "#FF97FF",
           "#FECB52"
          ],
          "font": {
           "color": "#2a3f5f"
          },
          "geo": {
           "bgcolor": "white",
           "lakecolor": "white",
           "landcolor": "#E5ECF6",
           "showlakes": true,
           "showland": true,
           "subunitcolor": "white"
          },
          "hoverlabel": {
           "align": "left"
          },
          "hovermode": "closest",
          "mapbox": {
           "style": "light"
          },
          "paper_bgcolor": "white",
          "plot_bgcolor": "#E5ECF6",
          "polar": {
           "angularaxis": {
            "gridcolor": "white",
            "linecolor": "white",
            "ticks": ""
           },
           "bgcolor": "#E5ECF6",
           "radialaxis": {
            "gridcolor": "white",
            "linecolor": "white",
            "ticks": ""
           }
          },
          "scene": {
           "xaxis": {
            "backgroundcolor": "#E5ECF6",
            "gridcolor": "white",
            "gridwidth": 2,
            "linecolor": "white",
            "showbackground": true,
            "ticks": "",
            "zerolinecolor": "white"
           },
           "yaxis": {
            "backgroundcolor": "#E5ECF6",
            "gridcolor": "white",
            "gridwidth": 2,
            "linecolor": "white",
            "showbackground": true,
            "ticks": "",
            "zerolinecolor": "white"
           },
           "zaxis": {
            "backgroundcolor": "#E5ECF6",
            "gridcolor": "white",
            "gridwidth": 2,
            "linecolor": "white",
            "showbackground": true,
            "ticks": "",
            "zerolinecolor": "white"
           }
          },
          "shapedefaults": {
           "line": {
            "color": "#2a3f5f"
           }
          },
          "ternary": {
           "aaxis": {
            "gridcolor": "white",
            "linecolor": "white",
            "ticks": ""
           },
           "baxis": {
            "gridcolor": "white",
            "linecolor": "white",
            "ticks": ""
           },
           "bgcolor": "#E5ECF6",
           "caxis": {
            "gridcolor": "white",
            "linecolor": "white",
            "ticks": ""
           }
          },
          "title": {
           "x": 0.05
          },
          "xaxis": {
           "automargin": true,
           "gridcolor": "white",
           "linecolor": "white",
           "ticks": "",
           "title": {
            "standoff": 15
           },
           "zerolinecolor": "white",
           "zerolinewidth": 2
          },
          "yaxis": {
           "automargin": true,
           "gridcolor": "white",
           "linecolor": "white",
           "ticks": "",
           "title": {
            "standoff": 15
           },
           "zerolinecolor": "white",
           "zerolinewidth": 2
          }
         }
        },
        "title": {
         "text": "Inyección por Provincia"
        },
        "xaxis": {
         "title": {
          "text": "Provincia"
         }
        },
        "yaxis": {
         "title": {
          "text": "Inyección"
         }
        }
       }
      }
     },
     "metadata": {},
     "output_type": "display_data"
    }
   ],
   "source": [
    "# Dataframe \n",
    "iny_prod = activos.groupby('provincia')[['iny_agua','iny_gas','iny_otro']].sum().round(2)\n",
    "iny_prod\n",
    "\n",
    "fig = go.Figure()\n",
    "for column in iny_prod.columns:\n",
    "    fig.add_trace(go.Bar(\n",
    "        x=iny_prod.index,\n",
    "        y=iny_prod[column],\n",
    "        name=column\n",
    "    ))\n",
    "fig.update_layout(\n",
    "    barmode='stack',\n",
    "    title='Inyección por Provincia',\n",
    "    xaxis_title='Provincia',\n",
    "    yaxis_title='Inyección',\n",
    "    legend_title='Tipo de Inyección'\n",
    ")\n",
    "fig.show()"
   ]
  },
  {
   "cell_type": "markdown",
   "metadata": {},
   "source": [
    "Como podemos observar la inyección de agua es por mucho el que tiene mayor volumen."
   ]
  },
  {
   "cell_type": "markdown",
   "metadata": {},
   "source": [
    "Empresas con mayor produccion"
   ]
  },
  {
   "cell_type": "code",
   "execution_count": 15,
   "metadata": {},
   "outputs": [
    {
     "data": {
      "application/vnd.plotly.v1+json": {
       "config": {
        "plotlyServerURL": "https://plot.ly"
       },
       "data": [
        {
         "name": "Producción de Petróleo",
         "type": "bar",
         "x": [
          "YPF S.A.",
          "PAN AMERICAN ENERGY SL",
          "VISTA ENERGY ARGENTINA SAU",
          "SHELL ARGENTINA S.A.",
          "PLUSPETROL S.A.",
          "TECPETROL S.A.",
          "CGC ENERGIA SAU"
         ],
         "y": [
          1690216.92,
          518516.22,
          231729.93,
          177811.13,
          138473.21,
          93780.17,
          88992.02
         ]
        },
        {
         "name": "Producción de Gas",
         "type": "bar",
         "x": [
          "YPF S.A.",
          "PAN AMERICAN ENERGY SL",
          "VISTA ENERGY ARGENTINA SAU",
          "SHELL ARGENTINA S.A.",
          "PLUSPETROL S.A.",
          "TECPETROL S.A.",
          "CGC ENERGIA SAU"
         ],
         "y": [
          1091484.13,
          539387.64,
          30493.06,
          17525.47,
          182844.52,
          513239.54,
          54864.04
         ]
        }
       ],
       "layout": {
        "barmode": "stack",
        "legend": {
         "title": {
          "text": "Tipo de Producción"
         }
        },
        "template": {
         "data": {
          "bar": [
           {
            "error_x": {
             "color": "#2a3f5f"
            },
            "error_y": {
             "color": "#2a3f5f"
            },
            "marker": {
             "line": {
              "color": "#E5ECF6",
              "width": 0.5
             },
             "pattern": {
              "fillmode": "overlay",
              "size": 10,
              "solidity": 0.2
             }
            },
            "type": "bar"
           }
          ],
          "barpolar": [
           {
            "marker": {
             "line": {
              "color": "#E5ECF6",
              "width": 0.5
             },
             "pattern": {
              "fillmode": "overlay",
              "size": 10,
              "solidity": 0.2
             }
            },
            "type": "barpolar"
           }
          ],
          "carpet": [
           {
            "aaxis": {
             "endlinecolor": "#2a3f5f",
             "gridcolor": "white",
             "linecolor": "white",
             "minorgridcolor": "white",
             "startlinecolor": "#2a3f5f"
            },
            "baxis": {
             "endlinecolor": "#2a3f5f",
             "gridcolor": "white",
             "linecolor": "white",
             "minorgridcolor": "white",
             "startlinecolor": "#2a3f5f"
            },
            "type": "carpet"
           }
          ],
          "choropleth": [
           {
            "colorbar": {
             "outlinewidth": 0,
             "ticks": ""
            },
            "type": "choropleth"
           }
          ],
          "contour": [
           {
            "colorbar": {
             "outlinewidth": 0,
             "ticks": ""
            },
            "colorscale": [
             [
              0,
              "#0d0887"
             ],
             [
              0.1111111111111111,
              "#46039f"
             ],
             [
              0.2222222222222222,
              "#7201a8"
             ],
             [
              0.3333333333333333,
              "#9c179e"
             ],
             [
              0.4444444444444444,
              "#bd3786"
             ],
             [
              0.5555555555555556,
              "#d8576b"
             ],
             [
              0.6666666666666666,
              "#ed7953"
             ],
             [
              0.7777777777777778,
              "#fb9f3a"
             ],
             [
              0.8888888888888888,
              "#fdca26"
             ],
             [
              1,
              "#f0f921"
             ]
            ],
            "type": "contour"
           }
          ],
          "contourcarpet": [
           {
            "colorbar": {
             "outlinewidth": 0,
             "ticks": ""
            },
            "type": "contourcarpet"
           }
          ],
          "heatmap": [
           {
            "colorbar": {
             "outlinewidth": 0,
             "ticks": ""
            },
            "colorscale": [
             [
              0,
              "#0d0887"
             ],
             [
              0.1111111111111111,
              "#46039f"
             ],
             [
              0.2222222222222222,
              "#7201a8"
             ],
             [
              0.3333333333333333,
              "#9c179e"
             ],
             [
              0.4444444444444444,
              "#bd3786"
             ],
             [
              0.5555555555555556,
              "#d8576b"
             ],
             [
              0.6666666666666666,
              "#ed7953"
             ],
             [
              0.7777777777777778,
              "#fb9f3a"
             ],
             [
              0.8888888888888888,
              "#fdca26"
             ],
             [
              1,
              "#f0f921"
             ]
            ],
            "type": "heatmap"
           }
          ],
          "heatmapgl": [
           {
            "colorbar": {
             "outlinewidth": 0,
             "ticks": ""
            },
            "colorscale": [
             [
              0,
              "#0d0887"
             ],
             [
              0.1111111111111111,
              "#46039f"
             ],
             [
              0.2222222222222222,
              "#7201a8"
             ],
             [
              0.3333333333333333,
              "#9c179e"
             ],
             [
              0.4444444444444444,
              "#bd3786"
             ],
             [
              0.5555555555555556,
              "#d8576b"
             ],
             [
              0.6666666666666666,
              "#ed7953"
             ],
             [
              0.7777777777777778,
              "#fb9f3a"
             ],
             [
              0.8888888888888888,
              "#fdca26"
             ],
             [
              1,
              "#f0f921"
             ]
            ],
            "type": "heatmapgl"
           }
          ],
          "histogram": [
           {
            "marker": {
             "pattern": {
              "fillmode": "overlay",
              "size": 10,
              "solidity": 0.2
             }
            },
            "type": "histogram"
           }
          ],
          "histogram2d": [
           {
            "colorbar": {
             "outlinewidth": 0,
             "ticks": ""
            },
            "colorscale": [
             [
              0,
              "#0d0887"
             ],
             [
              0.1111111111111111,
              "#46039f"
             ],
             [
              0.2222222222222222,
              "#7201a8"
             ],
             [
              0.3333333333333333,
              "#9c179e"
             ],
             [
              0.4444444444444444,
              "#bd3786"
             ],
             [
              0.5555555555555556,
              "#d8576b"
             ],
             [
              0.6666666666666666,
              "#ed7953"
             ],
             [
              0.7777777777777778,
              "#fb9f3a"
             ],
             [
              0.8888888888888888,
              "#fdca26"
             ],
             [
              1,
              "#f0f921"
             ]
            ],
            "type": "histogram2d"
           }
          ],
          "histogram2dcontour": [
           {
            "colorbar": {
             "outlinewidth": 0,
             "ticks": ""
            },
            "colorscale": [
             [
              0,
              "#0d0887"
             ],
             [
              0.1111111111111111,
              "#46039f"
             ],
             [
              0.2222222222222222,
              "#7201a8"
             ],
             [
              0.3333333333333333,
              "#9c179e"
             ],
             [
              0.4444444444444444,
              "#bd3786"
             ],
             [
              0.5555555555555556,
              "#d8576b"
             ],
             [
              0.6666666666666666,
              "#ed7953"
             ],
             [
              0.7777777777777778,
              "#fb9f3a"
             ],
             [
              0.8888888888888888,
              "#fdca26"
             ],
             [
              1,
              "#f0f921"
             ]
            ],
            "type": "histogram2dcontour"
           }
          ],
          "mesh3d": [
           {
            "colorbar": {
             "outlinewidth": 0,
             "ticks": ""
            },
            "type": "mesh3d"
           }
          ],
          "parcoords": [
           {
            "line": {
             "colorbar": {
              "outlinewidth": 0,
              "ticks": ""
             }
            },
            "type": "parcoords"
           }
          ],
          "pie": [
           {
            "automargin": true,
            "type": "pie"
           }
          ],
          "scatter": [
           {
            "fillpattern": {
             "fillmode": "overlay",
             "size": 10,
             "solidity": 0.2
            },
            "type": "scatter"
           }
          ],
          "scatter3d": [
           {
            "line": {
             "colorbar": {
              "outlinewidth": 0,
              "ticks": ""
             }
            },
            "marker": {
             "colorbar": {
              "outlinewidth": 0,
              "ticks": ""
             }
            },
            "type": "scatter3d"
           }
          ],
          "scattercarpet": [
           {
            "marker": {
             "colorbar": {
              "outlinewidth": 0,
              "ticks": ""
             }
            },
            "type": "scattercarpet"
           }
          ],
          "scattergeo": [
           {
            "marker": {
             "colorbar": {
              "outlinewidth": 0,
              "ticks": ""
             }
            },
            "type": "scattergeo"
           }
          ],
          "scattergl": [
           {
            "marker": {
             "colorbar": {
              "outlinewidth": 0,
              "ticks": ""
             }
            },
            "type": "scattergl"
           }
          ],
          "scattermapbox": [
           {
            "marker": {
             "colorbar": {
              "outlinewidth": 0,
              "ticks": ""
             }
            },
            "type": "scattermapbox"
           }
          ],
          "scatterpolar": [
           {
            "marker": {
             "colorbar": {
              "outlinewidth": 0,
              "ticks": ""
             }
            },
            "type": "scatterpolar"
           }
          ],
          "scatterpolargl": [
           {
            "marker": {
             "colorbar": {
              "outlinewidth": 0,
              "ticks": ""
             }
            },
            "type": "scatterpolargl"
           }
          ],
          "scatterternary": [
           {
            "marker": {
             "colorbar": {
              "outlinewidth": 0,
              "ticks": ""
             }
            },
            "type": "scatterternary"
           }
          ],
          "surface": [
           {
            "colorbar": {
             "outlinewidth": 0,
             "ticks": ""
            },
            "colorscale": [
             [
              0,
              "#0d0887"
             ],
             [
              0.1111111111111111,
              "#46039f"
             ],
             [
              0.2222222222222222,
              "#7201a8"
             ],
             [
              0.3333333333333333,
              "#9c179e"
             ],
             [
              0.4444444444444444,
              "#bd3786"
             ],
             [
              0.5555555555555556,
              "#d8576b"
             ],
             [
              0.6666666666666666,
              "#ed7953"
             ],
             [
              0.7777777777777778,
              "#fb9f3a"
             ],
             [
              0.8888888888888888,
              "#fdca26"
             ],
             [
              1,
              "#f0f921"
             ]
            ],
            "type": "surface"
           }
          ],
          "table": [
           {
            "cells": {
             "fill": {
              "color": "#EBF0F8"
             },
             "line": {
              "color": "white"
             }
            },
            "header": {
             "fill": {
              "color": "#C8D4E3"
             },
             "line": {
              "color": "white"
             }
            },
            "type": "table"
           }
          ]
         },
         "layout": {
          "annotationdefaults": {
           "arrowcolor": "#2a3f5f",
           "arrowhead": 0,
           "arrowwidth": 1
          },
          "autotypenumbers": "strict",
          "coloraxis": {
           "colorbar": {
            "outlinewidth": 0,
            "ticks": ""
           }
          },
          "colorscale": {
           "diverging": [
            [
             0,
             "#8e0152"
            ],
            [
             0.1,
             "#c51b7d"
            ],
            [
             0.2,
             "#de77ae"
            ],
            [
             0.3,
             "#f1b6da"
            ],
            [
             0.4,
             "#fde0ef"
            ],
            [
             0.5,
             "#f7f7f7"
            ],
            [
             0.6,
             "#e6f5d0"
            ],
            [
             0.7,
             "#b8e186"
            ],
            [
             0.8,
             "#7fbc41"
            ],
            [
             0.9,
             "#4d9221"
            ],
            [
             1,
             "#276419"
            ]
           ],
           "sequential": [
            [
             0,
             "#0d0887"
            ],
            [
             0.1111111111111111,
             "#46039f"
            ],
            [
             0.2222222222222222,
             "#7201a8"
            ],
            [
             0.3333333333333333,
             "#9c179e"
            ],
            [
             0.4444444444444444,
             "#bd3786"
            ],
            [
             0.5555555555555556,
             "#d8576b"
            ],
            [
             0.6666666666666666,
             "#ed7953"
            ],
            [
             0.7777777777777778,
             "#fb9f3a"
            ],
            [
             0.8888888888888888,
             "#fdca26"
            ],
            [
             1,
             "#f0f921"
            ]
           ],
           "sequentialminus": [
            [
             0,
             "#0d0887"
            ],
            [
             0.1111111111111111,
             "#46039f"
            ],
            [
             0.2222222222222222,
             "#7201a8"
            ],
            [
             0.3333333333333333,
             "#9c179e"
            ],
            [
             0.4444444444444444,
             "#bd3786"
            ],
            [
             0.5555555555555556,
             "#d8576b"
            ],
            [
             0.6666666666666666,
             "#ed7953"
            ],
            [
             0.7777777777777778,
             "#fb9f3a"
            ],
            [
             0.8888888888888888,
             "#fdca26"
            ],
            [
             1,
             "#f0f921"
            ]
           ]
          },
          "colorway": [
           "#636efa",
           "#EF553B",
           "#00cc96",
           "#ab63fa",
           "#FFA15A",
           "#19d3f3",
           "#FF6692",
           "#B6E880",
           "#FF97FF",
           "#FECB52"
          ],
          "font": {
           "color": "#2a3f5f"
          },
          "geo": {
           "bgcolor": "white",
           "lakecolor": "white",
           "landcolor": "#E5ECF6",
           "showlakes": true,
           "showland": true,
           "subunitcolor": "white"
          },
          "hoverlabel": {
           "align": "left"
          },
          "hovermode": "closest",
          "mapbox": {
           "style": "light"
          },
          "paper_bgcolor": "white",
          "plot_bgcolor": "#E5ECF6",
          "polar": {
           "angularaxis": {
            "gridcolor": "white",
            "linecolor": "white",
            "ticks": ""
           },
           "bgcolor": "#E5ECF6",
           "radialaxis": {
            "gridcolor": "white",
            "linecolor": "white",
            "ticks": ""
           }
          },
          "scene": {
           "xaxis": {
            "backgroundcolor": "#E5ECF6",
            "gridcolor": "white",
            "gridwidth": 2,
            "linecolor": "white",
            "showbackground": true,
            "ticks": "",
            "zerolinecolor": "white"
           },
           "yaxis": {
            "backgroundcolor": "#E5ECF6",
            "gridcolor": "white",
            "gridwidth": 2,
            "linecolor": "white",
            "showbackground": true,
            "ticks": "",
            "zerolinecolor": "white"
           },
           "zaxis": {
            "backgroundcolor": "#E5ECF6",
            "gridcolor": "white",
            "gridwidth": 2,
            "linecolor": "white",
            "showbackground": true,
            "ticks": "",
            "zerolinecolor": "white"
           }
          },
          "shapedefaults": {
           "line": {
            "color": "#2a3f5f"
           }
          },
          "ternary": {
           "aaxis": {
            "gridcolor": "white",
            "linecolor": "white",
            "ticks": ""
           },
           "baxis": {
            "gridcolor": "white",
            "linecolor": "white",
            "ticks": ""
           },
           "bgcolor": "#E5ECF6",
           "caxis": {
            "gridcolor": "white",
            "linecolor": "white",
            "ticks": ""
           }
          },
          "title": {
           "x": 0.05
          },
          "xaxis": {
           "automargin": true,
           "gridcolor": "white",
           "linecolor": "white",
           "ticks": "",
           "title": {
            "standoff": 15
           },
           "zerolinecolor": "white",
           "zerolinewidth": 2
          },
          "yaxis": {
           "automargin": true,
           "gridcolor": "white",
           "linecolor": "white",
           "ticks": "",
           "title": {
            "standoff": 15
           },
           "zerolinecolor": "white",
           "zerolinewidth": 2
          }
         }
        },
        "title": {
         "text": "Producción de Petróleo, Gas y Agua por Empresa"
        },
        "xaxis": {
         "title": {
          "text": "Empresa"
         }
        },
        "yaxis": {
         "title": {
          "text": "Producción"
         }
        }
       }
      }
     },
     "metadata": {},
     "output_type": "display_data"
    }
   ],
   "source": [
    "# DataFrame\n",
    "prod_emp = mes3.groupby('empresa')[['prod_pet','prod_gas','prod_agua']]\n",
    "# Ordenamiento \n",
    "data_group = prod_emp.sum().reset_index().round(2).sort_values(by='prod_pet', ascending=False, ignore_index=True).head(7)\n",
    "# Figura\n",
    "fig = go.Figure()\n",
    "\n",
    "fig.add_trace(go.Bar(\n",
    "    x=data_group['empresa'],\n",
    "    y=data_group['prod_pet'],\n",
    "    name='Producción de Petróleo'\n",
    "))\n",
    "fig.add_trace(go.Bar(\n",
    "    x=data_group['empresa'],\n",
    "    y=data_group['prod_gas'],\n",
    "    name='Producción de Gas'\n",
    "))\n",
    "\n",
    "fig.update_layout(\n",
    "    barmode='stack',\n",
    "    title='Producción de Petróleo, Gas y Agua por Empresa',\n",
    "    xaxis_title='Empresa',\n",
    "    yaxis_title='Producción',\n",
    "    legend_title='Tipo de Producción'\n",
    ")\n",
    "fig.show()\n",
    "# Nota: Se excluyen los valores de prod_agua por la generacion de ruido del mismo.\n"
   ]
  },
  {
   "cell_type": "markdown",
   "metadata": {},
   "source": [
    "Cuenca con mayor produccion"
   ]
  },
  {
   "cell_type": "code",
   "execution_count": 16,
   "metadata": {},
   "outputs": [
    {
     "data": {
      "application/vnd.plotly.v1+json": {
       "config": {
        "plotlyServerURL": "https://plot.ly"
       },
       "data": [
        {
         "name": "Producción de Petróleo",
         "type": "bar",
         "x": [
          "NEUQUINA",
          "GOLFO SAN JORGE",
          "CUYANA",
          "AUSTRAL",
          "NOROESTE"
         ],
         "y": [
          2228936.55,
          971336.31,
          75765.9,
          38459.73,
          13935.14
         ]
        },
        {
         "name": "Producción de Gas",
         "type": "bar",
         "x": [
          "NEUQUINA",
          "GOLFO SAN JORGE",
          "CUYANA",
          "AUSTRAL",
          "NOROESTE"
         ],
         "y": [
          2944136.75,
          335240.92,
          4054.11,
          304170.75,
          104566.86
         ]
        }
       ],
       "layout": {
        "barmode": "stack",
        "legend": {
         "title": {
          "text": "Tipo de Producción"
         }
        },
        "template": {
         "data": {
          "bar": [
           {
            "error_x": {
             "color": "#2a3f5f"
            },
            "error_y": {
             "color": "#2a3f5f"
            },
            "marker": {
             "line": {
              "color": "#E5ECF6",
              "width": 0.5
             },
             "pattern": {
              "fillmode": "overlay",
              "size": 10,
              "solidity": 0.2
             }
            },
            "type": "bar"
           }
          ],
          "barpolar": [
           {
            "marker": {
             "line": {
              "color": "#E5ECF6",
              "width": 0.5
             },
             "pattern": {
              "fillmode": "overlay",
              "size": 10,
              "solidity": 0.2
             }
            },
            "type": "barpolar"
           }
          ],
          "carpet": [
           {
            "aaxis": {
             "endlinecolor": "#2a3f5f",
             "gridcolor": "white",
             "linecolor": "white",
             "minorgridcolor": "white",
             "startlinecolor": "#2a3f5f"
            },
            "baxis": {
             "endlinecolor": "#2a3f5f",
             "gridcolor": "white",
             "linecolor": "white",
             "minorgridcolor": "white",
             "startlinecolor": "#2a3f5f"
            },
            "type": "carpet"
           }
          ],
          "choropleth": [
           {
            "colorbar": {
             "outlinewidth": 0,
             "ticks": ""
            },
            "type": "choropleth"
           }
          ],
          "contour": [
           {
            "colorbar": {
             "outlinewidth": 0,
             "ticks": ""
            },
            "colorscale": [
             [
              0,
              "#0d0887"
             ],
             [
              0.1111111111111111,
              "#46039f"
             ],
             [
              0.2222222222222222,
              "#7201a8"
             ],
             [
              0.3333333333333333,
              "#9c179e"
             ],
             [
              0.4444444444444444,
              "#bd3786"
             ],
             [
              0.5555555555555556,
              "#d8576b"
             ],
             [
              0.6666666666666666,
              "#ed7953"
             ],
             [
              0.7777777777777778,
              "#fb9f3a"
             ],
             [
              0.8888888888888888,
              "#fdca26"
             ],
             [
              1,
              "#f0f921"
             ]
            ],
            "type": "contour"
           }
          ],
          "contourcarpet": [
           {
            "colorbar": {
             "outlinewidth": 0,
             "ticks": ""
            },
            "type": "contourcarpet"
           }
          ],
          "heatmap": [
           {
            "colorbar": {
             "outlinewidth": 0,
             "ticks": ""
            },
            "colorscale": [
             [
              0,
              "#0d0887"
             ],
             [
              0.1111111111111111,
              "#46039f"
             ],
             [
              0.2222222222222222,
              "#7201a8"
             ],
             [
              0.3333333333333333,
              "#9c179e"
             ],
             [
              0.4444444444444444,
              "#bd3786"
             ],
             [
              0.5555555555555556,
              "#d8576b"
             ],
             [
              0.6666666666666666,
              "#ed7953"
             ],
             [
              0.7777777777777778,
              "#fb9f3a"
             ],
             [
              0.8888888888888888,
              "#fdca26"
             ],
             [
              1,
              "#f0f921"
             ]
            ],
            "type": "heatmap"
           }
          ],
          "heatmapgl": [
           {
            "colorbar": {
             "outlinewidth": 0,
             "ticks": ""
            },
            "colorscale": [
             [
              0,
              "#0d0887"
             ],
             [
              0.1111111111111111,
              "#46039f"
             ],
             [
              0.2222222222222222,
              "#7201a8"
             ],
             [
              0.3333333333333333,
              "#9c179e"
             ],
             [
              0.4444444444444444,
              "#bd3786"
             ],
             [
              0.5555555555555556,
              "#d8576b"
             ],
             [
              0.6666666666666666,
              "#ed7953"
             ],
             [
              0.7777777777777778,
              "#fb9f3a"
             ],
             [
              0.8888888888888888,
              "#fdca26"
             ],
             [
              1,
              "#f0f921"
             ]
            ],
            "type": "heatmapgl"
           }
          ],
          "histogram": [
           {
            "marker": {
             "pattern": {
              "fillmode": "overlay",
              "size": 10,
              "solidity": 0.2
             }
            },
            "type": "histogram"
           }
          ],
          "histogram2d": [
           {
            "colorbar": {
             "outlinewidth": 0,
             "ticks": ""
            },
            "colorscale": [
             [
              0,
              "#0d0887"
             ],
             [
              0.1111111111111111,
              "#46039f"
             ],
             [
              0.2222222222222222,
              "#7201a8"
             ],
             [
              0.3333333333333333,
              "#9c179e"
             ],
             [
              0.4444444444444444,
              "#bd3786"
             ],
             [
              0.5555555555555556,
              "#d8576b"
             ],
             [
              0.6666666666666666,
              "#ed7953"
             ],
             [
              0.7777777777777778,
              "#fb9f3a"
             ],
             [
              0.8888888888888888,
              "#fdca26"
             ],
             [
              1,
              "#f0f921"
             ]
            ],
            "type": "histogram2d"
           }
          ],
          "histogram2dcontour": [
           {
            "colorbar": {
             "outlinewidth": 0,
             "ticks": ""
            },
            "colorscale": [
             [
              0,
              "#0d0887"
             ],
             [
              0.1111111111111111,
              "#46039f"
             ],
             [
              0.2222222222222222,
              "#7201a8"
             ],
             [
              0.3333333333333333,
              "#9c179e"
             ],
             [
              0.4444444444444444,
              "#bd3786"
             ],
             [
              0.5555555555555556,
              "#d8576b"
             ],
             [
              0.6666666666666666,
              "#ed7953"
             ],
             [
              0.7777777777777778,
              "#fb9f3a"
             ],
             [
              0.8888888888888888,
              "#fdca26"
             ],
             [
              1,
              "#f0f921"
             ]
            ],
            "type": "histogram2dcontour"
           }
          ],
          "mesh3d": [
           {
            "colorbar": {
             "outlinewidth": 0,
             "ticks": ""
            },
            "type": "mesh3d"
           }
          ],
          "parcoords": [
           {
            "line": {
             "colorbar": {
              "outlinewidth": 0,
              "ticks": ""
             }
            },
            "type": "parcoords"
           }
          ],
          "pie": [
           {
            "automargin": true,
            "type": "pie"
           }
          ],
          "scatter": [
           {
            "fillpattern": {
             "fillmode": "overlay",
             "size": 10,
             "solidity": 0.2
            },
            "type": "scatter"
           }
          ],
          "scatter3d": [
           {
            "line": {
             "colorbar": {
              "outlinewidth": 0,
              "ticks": ""
             }
            },
            "marker": {
             "colorbar": {
              "outlinewidth": 0,
              "ticks": ""
             }
            },
            "type": "scatter3d"
           }
          ],
          "scattercarpet": [
           {
            "marker": {
             "colorbar": {
              "outlinewidth": 0,
              "ticks": ""
             }
            },
            "type": "scattercarpet"
           }
          ],
          "scattergeo": [
           {
            "marker": {
             "colorbar": {
              "outlinewidth": 0,
              "ticks": ""
             }
            },
            "type": "scattergeo"
           }
          ],
          "scattergl": [
           {
            "marker": {
             "colorbar": {
              "outlinewidth": 0,
              "ticks": ""
             }
            },
            "type": "scattergl"
           }
          ],
          "scattermapbox": [
           {
            "marker": {
             "colorbar": {
              "outlinewidth": 0,
              "ticks": ""
             }
            },
            "type": "scattermapbox"
           }
          ],
          "scatterpolar": [
           {
            "marker": {
             "colorbar": {
              "outlinewidth": 0,
              "ticks": ""
             }
            },
            "type": "scatterpolar"
           }
          ],
          "scatterpolargl": [
           {
            "marker": {
             "colorbar": {
              "outlinewidth": 0,
              "ticks": ""
             }
            },
            "type": "scatterpolargl"
           }
          ],
          "scatterternary": [
           {
            "marker": {
             "colorbar": {
              "outlinewidth": 0,
              "ticks": ""
             }
            },
            "type": "scatterternary"
           }
          ],
          "surface": [
           {
            "colorbar": {
             "outlinewidth": 0,
             "ticks": ""
            },
            "colorscale": [
             [
              0,
              "#0d0887"
             ],
             [
              0.1111111111111111,
              "#46039f"
             ],
             [
              0.2222222222222222,
              "#7201a8"
             ],
             [
              0.3333333333333333,
              "#9c179e"
             ],
             [
              0.4444444444444444,
              "#bd3786"
             ],
             [
              0.5555555555555556,
              "#d8576b"
             ],
             [
              0.6666666666666666,
              "#ed7953"
             ],
             [
              0.7777777777777778,
              "#fb9f3a"
             ],
             [
              0.8888888888888888,
              "#fdca26"
             ],
             [
              1,
              "#f0f921"
             ]
            ],
            "type": "surface"
           }
          ],
          "table": [
           {
            "cells": {
             "fill": {
              "color": "#EBF0F8"
             },
             "line": {
              "color": "white"
             }
            },
            "header": {
             "fill": {
              "color": "#C8D4E3"
             },
             "line": {
              "color": "white"
             }
            },
            "type": "table"
           }
          ]
         },
         "layout": {
          "annotationdefaults": {
           "arrowcolor": "#2a3f5f",
           "arrowhead": 0,
           "arrowwidth": 1
          },
          "autotypenumbers": "strict",
          "coloraxis": {
           "colorbar": {
            "outlinewidth": 0,
            "ticks": ""
           }
          },
          "colorscale": {
           "diverging": [
            [
             0,
             "#8e0152"
            ],
            [
             0.1,
             "#c51b7d"
            ],
            [
             0.2,
             "#de77ae"
            ],
            [
             0.3,
             "#f1b6da"
            ],
            [
             0.4,
             "#fde0ef"
            ],
            [
             0.5,
             "#f7f7f7"
            ],
            [
             0.6,
             "#e6f5d0"
            ],
            [
             0.7,
             "#b8e186"
            ],
            [
             0.8,
             "#7fbc41"
            ],
            [
             0.9,
             "#4d9221"
            ],
            [
             1,
             "#276419"
            ]
           ],
           "sequential": [
            [
             0,
             "#0d0887"
            ],
            [
             0.1111111111111111,
             "#46039f"
            ],
            [
             0.2222222222222222,
             "#7201a8"
            ],
            [
             0.3333333333333333,
             "#9c179e"
            ],
            [
             0.4444444444444444,
             "#bd3786"
            ],
            [
             0.5555555555555556,
             "#d8576b"
            ],
            [
             0.6666666666666666,
             "#ed7953"
            ],
            [
             0.7777777777777778,
             "#fb9f3a"
            ],
            [
             0.8888888888888888,
             "#fdca26"
            ],
            [
             1,
             "#f0f921"
            ]
           ],
           "sequentialminus": [
            [
             0,
             "#0d0887"
            ],
            [
             0.1111111111111111,
             "#46039f"
            ],
            [
             0.2222222222222222,
             "#7201a8"
            ],
            [
             0.3333333333333333,
             "#9c179e"
            ],
            [
             0.4444444444444444,
             "#bd3786"
            ],
            [
             0.5555555555555556,
             "#d8576b"
            ],
            [
             0.6666666666666666,
             "#ed7953"
            ],
            [
             0.7777777777777778,
             "#fb9f3a"
            ],
            [
             0.8888888888888888,
             "#fdca26"
            ],
            [
             1,
             "#f0f921"
            ]
           ]
          },
          "colorway": [
           "#636efa",
           "#EF553B",
           "#00cc96",
           "#ab63fa",
           "#FFA15A",
           "#19d3f3",
           "#FF6692",
           "#B6E880",
           "#FF97FF",
           "#FECB52"
          ],
          "font": {
           "color": "#2a3f5f"
          },
          "geo": {
           "bgcolor": "white",
           "lakecolor": "white",
           "landcolor": "#E5ECF6",
           "showlakes": true,
           "showland": true,
           "subunitcolor": "white"
          },
          "hoverlabel": {
           "align": "left"
          },
          "hovermode": "closest",
          "mapbox": {
           "style": "light"
          },
          "paper_bgcolor": "white",
          "plot_bgcolor": "#E5ECF6",
          "polar": {
           "angularaxis": {
            "gridcolor": "white",
            "linecolor": "white",
            "ticks": ""
           },
           "bgcolor": "#E5ECF6",
           "radialaxis": {
            "gridcolor": "white",
            "linecolor": "white",
            "ticks": ""
           }
          },
          "scene": {
           "xaxis": {
            "backgroundcolor": "#E5ECF6",
            "gridcolor": "white",
            "gridwidth": 2,
            "linecolor": "white",
            "showbackground": true,
            "ticks": "",
            "zerolinecolor": "white"
           },
           "yaxis": {
            "backgroundcolor": "#E5ECF6",
            "gridcolor": "white",
            "gridwidth": 2,
            "linecolor": "white",
            "showbackground": true,
            "ticks": "",
            "zerolinecolor": "white"
           },
           "zaxis": {
            "backgroundcolor": "#E5ECF6",
            "gridcolor": "white",
            "gridwidth": 2,
            "linecolor": "white",
            "showbackground": true,
            "ticks": "",
            "zerolinecolor": "white"
           }
          },
          "shapedefaults": {
           "line": {
            "color": "#2a3f5f"
           }
          },
          "ternary": {
           "aaxis": {
            "gridcolor": "white",
            "linecolor": "white",
            "ticks": ""
           },
           "baxis": {
            "gridcolor": "white",
            "linecolor": "white",
            "ticks": ""
           },
           "bgcolor": "#E5ECF6",
           "caxis": {
            "gridcolor": "white",
            "linecolor": "white",
            "ticks": ""
           }
          },
          "title": {
           "x": 0.05
          },
          "xaxis": {
           "automargin": true,
           "gridcolor": "white",
           "linecolor": "white",
           "ticks": "",
           "title": {
            "standoff": 15
           },
           "zerolinecolor": "white",
           "zerolinewidth": 2
          },
          "yaxis": {
           "automargin": true,
           "gridcolor": "white",
           "linecolor": "white",
           "ticks": "",
           "title": {
            "standoff": 15
           },
           "zerolinecolor": "white",
           "zerolinewidth": 2
          }
         }
        },
        "title": {
         "text": "Producción de Petróleo y Gas por cuenca"
        },
        "xaxis": {
         "title": {
          "text": "Cuenca"
         }
        },
        "yaxis": {
         "title": {
          "text": "Producción"
         }
        }
       }
      }
     },
     "metadata": {},
     "output_type": "display_data"
    }
   ],
   "source": [
    "# DataFrame\n",
    "cuenca = mes3.groupby('cuenca')[['prod_pet', 'prod_gas', 'prod_agua']]\n",
    "# Ordenamiento\n",
    "sort_data = cuenca.sum().reset_index().round(2).sort_values(by='prod_pet', ascending=False, ignore_index=True).head(5)\n",
    "# Figura\n",
    "fig = go.Figure()\n",
    "\n",
    "fig.add_trace(go.Bar(\n",
    "    x=sort_data['cuenca'],\n",
    "    y=sort_data['prod_pet'],\n",
    "    name='Producción de Petróleo'\n",
    "))\n",
    "fig.add_trace(go.Bar(\n",
    "    x=sort_data['cuenca'],\n",
    "    y=sort_data['prod_gas'],\n",
    "    name='Producción de Gas'\n",
    "))\n",
    "\n",
    "fig.update_layout(\n",
    "    barmode='stack',\n",
    "    title='Producción de Petróleo y Gas por cuenca',\n",
    "    xaxis_title='Cuenca',\n",
    "    yaxis_title='Producción',\n",
    "    legend_title='Tipo de Producción'\n",
    ")\n",
    "fig.show()\n",
    "# Hay dos cuencas las cuales no tienen produccion el mes de marzo por lo cual son excluidas"
   ]
  },
  {
   "cell_type": "markdown",
   "metadata": {},
   "source": [
    "Tipo de extraccion mas frecuente por cuenca"
   ]
  },
  {
   "cell_type": "code",
   "execution_count": 17,
   "metadata": {},
   "outputs": [
    {
     "data": {
      "text/plain": [
       "tipoextraccion\n",
       "Bombeo Mecánico              13031\n",
       "Sin Sistema de Extracción     6084\n",
       "Surgencia Natural             4121\n",
       "Electrosumergible             3742\n",
       "Cavidad Progresiva            3628\n",
       "Plunger Lift                   788\n",
       "Pistoneo (Swabbing)            492\n",
       "Gas Lift                       340\n",
       "Otros Tipos de Extracción       24\n",
       "Jet Pump                         7\n",
       "Bombeo Hidráulico                2\n",
       "Name: count, dtype: int64"
      ]
     },
     "execution_count": 17,
     "metadata": {},
     "output_type": "execute_result"
    }
   ],
   "source": [
    "#El tipo de extraccion mas frecuente en pozos activos es:\n",
    "ext_frec = activos['tipoextraccion'].value_counts()\n",
    "ext_frec"
   ]
  },
  {
   "cell_type": "code",
   "execution_count": 18,
   "metadata": {},
   "outputs": [
    {
     "data": {
      "image/png": "[encoded data removed]",
      "text/plain": [
       "<Figure size 1000x600 with 1 Axes>"
      ]
     },
     "metadata": {},
     "output_type": "display_data"
    }
   ],
   "source": [
    "ext_frec.plot(kind='bar', figsize=(10,6), color='skyblue')\n",
    "plt.title('Extraccion mas frecuente')\n",
    "plt.xlabel('Tipo Extraccion')\n",
    "plt.ylabel('Cantidad')\n",
    "plt.xticks(rotation=45)\n",
    "plt.grid()\n",
    "plt.show()"
   ]
  }
 ],
 "metadata": {
  "kernelspec": {
   "display_name": "env",
   "language": "python",
   "name": "python3"
  },
  "language_info": {
   "codemirror_mode": {
    "name": "ipython",
    "version": 3
   },
   "file_extension": ".py",
   "mimetype": "text/x-python",
   "name": "python",
   "nbconvert_exporter": "python",
   "pygments_lexer": "ipython3",
   "version": "3.11.9"
  }
 },
 "nbformat": 4,
 "nbformat_minor": 2
}
